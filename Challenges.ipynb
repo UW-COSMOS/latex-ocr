{
 "cells": [
  {
   "cell_type": "markdown",
   "metadata": {},
   "source": [
    "This document aims to describe challanges we faced when applying techniques from [this library](https://github.com/guillaumegenthial/im2latex) to achieve the image-to-latex transformation."
   ]
  },
  {
   "cell_type": "code",
   "execution_count": 1,
   "metadata": {},
   "outputs": [],
   "source": [
    "from demo import img2latex\n",
    "from model.img2seq import Img2SeqModel\n",
    "from model.utils.general import Config, run\n",
    "from model.utils.text import Vocab\n",
    "from IPython.display import Image, display, Math, Latex\n",
    "from wand.image import Image as WImage\n",
    "import matplotlib.pyplot as plt\n",
    "from imgaug import augmenters as iaa\n",
    "%load_ext autoreload\n",
    "%autoreload 2"
   ]
  },
  {
   "cell_type": "code",
   "execution_count": 2,
   "metadata": {},
   "outputs": [
    {
     "name": "stderr",
     "output_type": "stream",
     "text": [
      "Building model...\n",
      "- done.\n",
      "Reloading the latest trained model...\n"
     ]
    },
    {
     "name": "stdout",
     "output_type": "stream",
     "text": [
      "INFO:tensorflow:Restoring parameters from results/full/model.weights/\n"
     ]
    },
    {
     "name": "stderr",
     "output_type": "stream",
     "text": [
      "Restoring parameters from results/full/model.weights/\n"
     ]
    }
   ],
   "source": [
    "dir_output = \"results/full/\"\n",
    "config_vocab = Config(dir_output + \"vocab.json\")\n",
    "config_model = Config(dir_output + \"model.json\")\n",
    "vocab = Vocab(config_vocab)\n",
    "\n",
    "model = Img2SeqModel(config_model, dir_output, vocab)\n",
    "model.build_pred()\n",
    "model.restore_session(dir_output + \"model.weights/\")"
   ]
  },
  {
   "cell_type": "code",
   "execution_count": 3,
   "metadata": {},
   "outputs": [],
   "source": [
    "import json\n",
    "\n",
    "def predict(src, ratio, img_augment=None):\n",
    "    result, img, output_path = img2latex(model, src, ratio, img_augment=img_augment)\n",
    "    print(src)\n",
    "    print('Image:')\n",
    "    display(Image(output_path))\n",
    "    print(\"Recognized latex:\")\n",
    "    print(result)\n",
    "    print(\"\\nCompilation from recognized latex:\")\n",
    "    display(Math(result))"
   ]
  },
  {
   "cell_type": "markdown",
   "metadata": {},
   "source": [
    "# Issues encountered in the existing framework"
   ]
  },
  {
   "cell_type": "markdown",
   "metadata": {},
   "source": [
    "## Very sensitive to the image size"
   ]
  },
  {
   "cell_type": "markdown",
   "metadata": {},
   "source": [
    "The example below demonstrates that the model works well on an image from the test set. However, it fails on the exact same image but slightly different size."
   ]
  },
  {
   "cell_type": "code",
   "execution_count": 4,
   "metadata": {},
   "outputs": [
    {
     "name": "stdout",
     "output_type": "stream",
     "text": [
      "Pixel Dimensions: (50, 320, 3)\n",
      "data/images_test/2.png\n",
      "Image:\n"
     ]
    },
    {
     "data": {
      "image/png": "[encoded data removed]",
      "text/plain": [
       "<IPython.core.display.Image object>"
      ]
     },
     "metadata": {},
     "output_type": "display_data"
    },
    {
     "name": "stdout",
     "output_type": "stream",
     "text": [
      "Recognized latex:\n",
      "P _ { ( 2 ) } ^ { - } = \\int \\beta d \\beta d ^ { 9 } p d ^ { 8 } \\lambda \\Phi ( - p , - \\lambda ) \\left( - \\frac { p ^ { I } p ^ { I } } { 2 \\beta } \\right) \\Phi ( p , \\lambda ) \\, .\n",
      "\n",
      "Compilation from recognized latex:\n"
     ]
    },
    {
     "data": {
      "text/latex": [
       "$$P _ { ( 2 ) } ^ { - } = \\int \\beta d \\beta d ^ { 9 } p d ^ { 8 } \\lambda \\Phi ( - p , - \\lambda ) \\left( - \\frac { p ^ { I } p ^ { I } } { 2 \\beta } \\right) \\Phi ( p , \\lambda ) \\, .$$"
      ],
      "text/plain": [
       "<IPython.core.display.Math object>"
      ]
     },
     "metadata": {},
     "output_type": "display_data"
    }
   ],
   "source": [
    "predict('data/images_test/%s.png'%'2', ratio=1, img_augment=None)"
   ]
  },
  {
   "cell_type": "markdown",
   "metadata": {},
   "source": [
    "The above image uses the size provided by the framework. If the size of the image is slightly altered, the result changes and becomes uncompilable."
   ]
  },
  {
   "cell_type": "code",
   "execution_count": 5,
   "metadata": {},
   "outputs": [
    {
     "name": "stdout",
     "output_type": "stream",
     "text": [
      "Pixel Dimensions: (47, 304, 3)\n",
      "data/images_test/2.png\n",
      "Image:\n"
     ]
    },
    {
     "data": {
      "image/png": "[encoded data removed]",
      "text/plain": [
       "<IPython.core.display.Image object>"
      ]
     },
     "metadata": {},
     "output_type": "display_data"
    },
    {
     "name": "stdout",
     "output_type": "stream",
     "text": [
      "Recognized latex:\n",
      "P _ { ( 2 ) } ^ { - } = \\int \\beta d \\beta { ^ { 3 } p d ^ { 8 } \\lambda \\Phi ( - p , - \\lambda ) \\left( - \\frac { p ^ { I } p ^ { I } } { 2 \\dot { \\beta } } \\right) \\Phi ( p , \\lambda ) \\, .\n",
      "\n",
      "Compilation from recognized latex:\n"
     ]
    },
    {
     "data": {
      "text/latex": [
       "$$P _ { ( 2 ) } ^ { - } = \\int \\beta d \\beta { ^ { 3 } p d ^ { 8 } \\lambda \\Phi ( - p , - \\lambda ) \\left( - \\frac { p ^ { I } p ^ { I } } { 2 \\dot { \\beta } } \\right) \\Phi ( p , \\lambda ) \\, .$$"
      ],
      "text/plain": [
       "<IPython.core.display.Math object>"
      ]
     },
     "metadata": {},
     "output_type": "display_data"
    }
   ],
   "source": [
    "predict('data/images_test/%s.png'%'2', ratio=1.05, img_augment=None)"
   ]
  },
  {
   "cell_type": "markdown",
   "metadata": {},
   "source": [
    "The example below increases the image size by 5% and the framework started to generate incorrect latex code as well."
   ]
  },
  {
   "cell_type": "code",
   "execution_count": 6,
   "metadata": {},
   "outputs": [
    {
     "name": "stdout",
     "output_type": "stream",
     "text": [
      "Pixel Dimensions: (52, 336, 3)\n",
      "data/images_test/2.png\n",
      "Image:\n"
     ]
    },
    {
     "data": {
      "image/png": "[encoded data removed]",
      "text/plain": [
       "<IPython.core.display.Image object>"
      ]
     },
     "metadata": {},
     "output_type": "display_data"
    },
    {
     "name": "stdout",
     "output_type": "stream",
     "text": [
      "Recognized latex:\n",
      "P _ { ( 2 ) } ^ { - } = \\int \\beta d { \\beta } { \\beta ^ { 4 } } p d ^ { ( - p , - \\lambda ) \\left( - \\frac { p ^ { I } p ^ { I } } { 2 \\beta } \\right) \\Phi ( p , \\lambda ) \\, .\n",
      "\n",
      "Compilation from recognized latex:\n"
     ]
    },
    {
     "data": {
      "text/latex": [
       "$$P _ { ( 2 ) } ^ { - } = \\int \\beta d { \\beta } { \\beta ^ { 4 } } p d ^ { ( - p , - \\lambda ) \\left( - \\frac { p ^ { I } p ^ { I } } { 2 \\beta } \\right) \\Phi ( p , \\lambda ) \\, .$$"
      ],
      "text/plain": [
       "<IPython.core.display.Math object>"
      ]
     },
     "metadata": {},
     "output_type": "display_data"
    }
   ],
   "source": [
    "predict('data/images_test/%s.png'%'2', ratio=0.95, img_augment=None)"
   ]
  },
  {
   "cell_type": "markdown",
   "metadata": {},
   "source": [
    "If there is a big change of size in the test image, the result changes significantly"
   ]
  },
  {
   "cell_type": "code",
   "execution_count": 7,
   "metadata": {},
   "outputs": [
    {
     "name": "stdout",
     "output_type": "stream",
     "text": [
      "Pixel Dimensions: (38, 246, 3)\n",
      "data/images_test/2.png\n",
      "Image:\n"
     ]
    },
    {
     "data": {
      "image/png": "[encoded data removed]",
      "text/plain": [
       "<IPython.core.display.Image object>"
      ]
     },
     "metadata": {},
     "output_type": "display_data"
    },
    {
     "name": "stdout",
     "output_type": "stream",
     "text": [
      "Recognized latex:\n",
      "\\stackrel { { P _ { } _ { [ } \\hat { \\beta } d { \\hat { \\beta } d { d } d ^ { \\prime } } } } { } } \\lambda \\Phi ( - p , - \\lambda ) \\left( - \\frac { p ^ { \\prime } p ^ { \\prime } } { 2 j } } \\right) _ { \\Phi ( p , \\lambda ) } .\n",
      "\n",
      "Compilation from recognized latex:\n"
     ]
    },
    {
     "data": {
      "text/latex": [
       "$$\\stackrel { { P _ { } _ { [ } \\hat { \\beta } d { \\hat { \\beta } d { d } d ^ { \\prime } } } } { } } \\lambda \\Phi ( - p , - \\lambda ) \\left( - \\frac { p ^ { \\prime } p ^ { \\prime } } { 2 j } } \\right) _ { \\Phi ( p , \\lambda ) } .$$"
      ],
      "text/plain": [
       "<IPython.core.display.Math object>"
      ]
     },
     "metadata": {},
     "output_type": "display_data"
    }
   ],
   "source": [
    "predict('data/images_test/%s.png'%'2', ratio=1.3, img_augment=None)"
   ]
  },
  {
   "cell_type": "markdown",
   "metadata": {},
   "source": [
    "## Sensitive to small noise"
   ]
  },
  {
   "cell_type": "markdown",
   "metadata": {},
   "source": [
    "From the same image used in the previous example as shown below"
   ]
  },
  {
   "cell_type": "code",
   "execution_count": 8,
   "metadata": {},
   "outputs": [
    {
     "name": "stdout",
     "output_type": "stream",
     "text": [
      "Pixel Dimensions: (50, 320, 3)\n",
      "data/images_test/2.png\n",
      "Image:\n"
     ]
    },
    {
     "data": {
      "image/png": "[encoded data removed]",
      "text/plain": [
       "<IPython.core.display.Image object>"
      ]
     },
     "metadata": {},
     "output_type": "display_data"
    },
    {
     "name": "stdout",
     "output_type": "stream",
     "text": [
      "Recognized latex:\n",
      "P _ { ( 2 ) } ^ { - } = \\int \\beta d \\beta d ^ { 9 } p d ^ { 8 } \\lambda \\Phi ( - p , - \\lambda ) \\left( - \\frac { p ^ { I } p ^ { I } } { 2 \\beta } \\right) \\Phi ( p , \\lambda ) \\, .\n",
      "\n",
      "Compilation from recognized latex:\n"
     ]
    },
    {
     "data": {
      "text/latex": [
       "$$P _ { ( 2 ) } ^ { - } = \\int \\beta d \\beta d ^ { 9 } p d ^ { 8 } \\lambda \\Phi ( - p , - \\lambda ) \\left( - \\frac { p ^ { I } p ^ { I } } { 2 \\beta } \\right) \\Phi ( p , \\lambda ) \\, .$$"
      ],
      "text/plain": [
       "<IPython.core.display.Math object>"
      ]
     },
     "metadata": {},
     "output_type": "display_data"
    }
   ],
   "source": [
    "predict('data/images_test/%s.png'%'2', ratio=1, img_augment=None)"
   ]
  },
  {
   "cell_type": "markdown",
   "metadata": {},
   "source": [
    "The prediction result changes if there is a little noise added."
   ]
  },
  {
   "cell_type": "code",
   "execution_count": 9,
   "metadata": {},
   "outputs": [
    {
     "name": "stdout",
     "output_type": "stream",
     "text": [
      "Pixel Dimensions: (50, 320, 3)\n",
      "data/images_test/2.png\n",
      "Image:\n"
     ]
    },
    {
     "data": {
      "image/png": "[encoded data removed]",
      "text/plain": [
       "<IPython.core.display.Image object>"
      ]
     },
     "metadata": {},
     "output_type": "display_data"
    },
    {
     "name": "stdout",
     "output_type": "stream",
     "text": [
      "Recognized latex:\n",
      "P _ { ( 2 ) } ^ { - } = \\int \\beta \\beta } d { \\beta } ^ { 3 } p ^ { 3 } { } { - \\lambda \\Phi ( - - \\left( - , - \\left( ^ { I } } ^ { I } } { 2 2 { \\beta } } \\right) } { } , \\lambda ) \\, .\n",
      "\n",
      "Compilation from recognized latex:\n"
     ]
    },
    {
     "data": {
      "text/latex": [
       "$$P _ { ( 2 ) } ^ { - } = \\int \\beta \\beta } d { \\beta } ^ { 3 } p ^ { 3 } { } { - \\lambda \\Phi ( - - \\left( - , - \\left( ^ { I } } ^ { I } } { 2 2 { \\beta } } \\right) } { } , \\lambda ) \\, .$$"
      ],
      "text/plain": [
       "<IPython.core.display.Math object>"
      ]
     },
     "metadata": {},
     "output_type": "display_data"
    }
   ],
   "source": [
    "f = iaa.Sequential([\n",
    "        iaa.GaussianBlur(sigma=(0.45))\n",
    "    ])\n",
    "predict('data/images_test/%s.png'%'2', ratio=1, img_augment=f)"
   ]
  },
  {
   "cell_type": "markdown",
   "metadata": {},
   "source": [
    "## A short survey on the prediction results from image that is in the test set but has been modified by simple augmentation techniques."
   ]
  },
  {
   "cell_type": "markdown",
   "metadata": {},
   "source": [
    "### MotionBlur"
   ]
  },
  {
   "cell_type": "code",
   "execution_count": 10,
   "metadata": {},
   "outputs": [
    {
     "name": "stdout",
     "output_type": "stream",
     "text": [
      "Pixel Dimensions: (50, 320, 3)\n",
      "data/images_test/2.png\n",
      "Image:\n"
     ]
    },
    {
     "data": {
      "image/png": "[encoded data removed]",
      "text/plain": [
       "<IPython.core.display.Image object>"
      ]
     },
     "metadata": {},
     "output_type": "display_data"
    },
    {
     "name": "stdout",
     "output_type": "stream",
     "text": [
      "Recognized latex:\n",
      "\\stackrel { . . . . { z - 1 } = \\stackrel { \\cdot } { { \\stackrel { { } { z } _ { } { i } { } { = } { { i } { \\beta } \\cdot \\frac { z } { \\beta } \\cdot { \\beta } \\cdot { { z } { { i } { } } \\cdot { { } } { { { { } } } ( \\bar { _ { + } - } - z } _ { _ { \\dot { } } } { { } { { _ { x } ^ { \\hat { r } } \\stackrel { \\bar { L } } { { } } { } } { \\hat { x } _ { \\bar { } } } ~ { { } } } ; { \\bar {\n",
      "\n",
      "Compilation from recognized latex:\n"
     ]
    },
    {
     "data": {
      "text/latex": [
       "$$\\stackrel { . . . . { z - 1 } = \\stackrel { \\cdot } { { \\stackrel { { } { z } _ { } { i } { } { = } { { i } { \\beta } \\cdot \\frac { z } { \\beta } \\cdot { \\beta } \\cdot { { z } { { i } { } } \\cdot { { } } { { { { } } } ( \\bar { _ { + } - } - z } _ { _ { \\dot { } } } { { } { { _ { x } ^ { \\hat { r } } \\stackrel { \\bar { L } } { { } } { } } { \\hat { x } _ { \\bar { } } } ~ { { } } } ; { \\bar {$$"
      ],
      "text/plain": [
       "<IPython.core.display.Math object>"
      ]
     },
     "metadata": {},
     "output_type": "display_data"
    }
   ],
   "source": [
    "f = iaa.Sequential([\n",
    "        iaa.MotionBlur(k=3)\n",
    "    ])\n",
    "predict('data/images_test/%s.png'%'2', ratio=1, img_augment=f)"
   ]
  },
  {
   "cell_type": "markdown",
   "metadata": {},
   "source": [
    "### Multiply"
   ]
  },
  {
   "cell_type": "code",
   "execution_count": 11,
   "metadata": {},
   "outputs": [
    {
     "name": "stdout",
     "output_type": "stream",
     "text": [
      "Pixel Dimensions: (50, 320, 3)\n",
      "data/images_test/2.png\n",
      "Image:\n"
     ]
    },
    {
     "data": {
      "image/png": "[encoded data removed]",
      "text/plain": [
       "<IPython.core.display.Image object>"
      ]
     },
     "metadata": {},
     "output_type": "display_data"
    },
    {
     "name": "stdout",
     "output_type": "stream",
     "text": [
      "Recognized latex:\n",
      "{ } _ { \\langle } \\! _ { \\! \\mu } = \\int { \\mu } = \\int { } } = \\int { } { j j { { j ^ { 0 } } } _ { } } { \\cdot { } { } ^ { 0 } { \\cdot { 0 } ^ { 4 } } ^ { 4 } } } { } _ { } { } _ { { } ^ { 2 } \\lambda { \\cdot { \\lambda { { \\boldmath { ~ } } } { ~ } { } ^ { \\prime } , { \\mathrm { \\boldmath ~ ~ } } } } \\left( } } { } { { } ^ { I } } _ { { { \\bf } } ^ { I } } \\\\ { 2 { { { z } } } \\\\\n",
      "\n",
      "Compilation from recognized latex:\n"
     ]
    },
    {
     "data": {
      "text/latex": [
       "$${ } _ { \\langle } \\! _ { \\! \\mu } = \\int { \\mu } = \\int { } } = \\int { } { j j { { j ^ { 0 } } } _ { } } { \\cdot { } { } ^ { 0 } { \\cdot { 0 } ^ { 4 } } ^ { 4 } } } { } _ { } { } _ { { } ^ { 2 } \\lambda { \\cdot { \\lambda { { \\boldmath { ~ } } } { ~ } { } ^ { \\prime } , { \\mathrm { \\boldmath ~ ~ } } } } \\left( } } { } { { } ^ { I } } _ { { { \\bf } } ^ { I } } \\\\ { 2 { { { z } } } \\\\$$"
      ],
      "text/plain": [
       "<IPython.core.display.Math object>"
      ]
     },
     "metadata": {},
     "output_type": "display_data"
    }
   ],
   "source": [
    "f = iaa.Sequential([\n",
    "        iaa.Multiply((0.5, 3), per_channel=1)\n",
    "    ])\n",
    "predict('data/images_test/%s.png'%'2', ratio=1, img_augment=f)"
   ]
  },
  {
   "cell_type": "markdown",
   "metadata": {},
   "source": [
    "### Dropout"
   ]
  },
  {
   "cell_type": "code",
   "execution_count": 12,
   "metadata": {},
   "outputs": [
    {
     "name": "stdout",
     "output_type": "stream",
     "text": [
      "Pixel Dimensions: (50, 320, 3)\n",
      "data/images_test/2.png\n",
      "Image:\n"
     ]
    },
    {
     "data": {
      "image/png": "[encoded data removed]",
      "text/plain": [
       "<IPython.core.display.Image object>"
      ]
     },
     "metadata": {},
     "output_type": "display_data"
    },
    {
     "name": "stdout",
     "output_type": "stream",
     "text": [
      "Recognized latex:\n",
      "\\begin{array} { c } { ) } ^ { - } \\! : \\! - } \\! \\cdot \\! \\cdot P _ { ( 2 ) } ^ { - } = \\int \\beta { \\beta } d \\beta \\dot { d } ^ { \\dot { 1 } } p { ^ { 8 } \\lambda \\Phi ( - p , - \\lambda ) \\left( -\n",
      "\n",
      "Compilation from recognized latex:\n"
     ]
    },
    {
     "data": {
      "text/latex": [
       "$$\\begin{array} { c } { ) } ^ { - } \\! : \\! - } \\! \\cdot \\! \\cdot P _ { ( 2 ) } ^ { - } = \\int \\beta { \\beta } d \\beta \\dot { d } ^ { \\dot { 1 } } p { ^ { 8 } \\lambda \\Phi ( - p , - \\lambda ) \\left( -$$"
      ],
      "text/plain": [
       "<IPython.core.display.Math object>"
      ]
     },
     "metadata": {},
     "output_type": "display_data"
    }
   ],
   "source": [
    "f = iaa.Sequential([\n",
    "        iaa.Dropout(p=0.005)\n",
    "    ])\n",
    "predict('data/images_test/%s.png'%'2', ratio=1, img_augment=f)"
   ]
  },
  {
   "cell_type": "markdown",
   "metadata": {},
   "source": [
    "### Pad"
   ]
  },
  {
   "cell_type": "code",
   "execution_count": 13,
   "metadata": {},
   "outputs": [
    {
     "name": "stdout",
     "output_type": "stream",
     "text": [
      "Pixel Dimensions: (50, 320, 3)\n",
      "data/images_test/2.png\n",
      "Image:\n"
     ]
    },
    {
     "data": {
      "image/png": "[encoded data removed]",
      "text/plain": [
       "<IPython.core.display.Image object>"
      ]
     },
     "metadata": {},
     "output_type": "display_data"
    },
    {
     "name": "stdout",
     "output_type": "stream",
     "text": [
      "Recognized latex:\n",
      "P _ { [ \\overline { { z } } ] } ^ { - } = \\int { { { S } } d \\beta { { \\beta } } ^ { 3 } { { { { { p } { { { { 8 } \\lambda \\Phi \\mathrm { d } } ^ { 8 } \\lambda \\Phi \\Phi } ( - ^ { I } p ^ { I } } { 2 { \\bar { \\beta } } } } \\right) \\Phi ( { p } , \\lambda ) .\n",
      "\n",
      "Compilation from recognized latex:\n"
     ]
    },
    {
     "data": {
      "text/latex": [
       "$$P _ { [ \\overline { { z } } ] } ^ { - } = \\int { { { S } } d \\beta { { \\beta } } ^ { 3 } { { { { { p } { { { { 8 } \\lambda \\Phi \\mathrm { d } } ^ { 8 } \\lambda \\Phi \\Phi } ( - ^ { I } p ^ { I } } { 2 { \\bar { \\beta } } } } \\right) \\Phi ( { p } , \\lambda ) .$$"
      ],
      "text/plain": [
       "<IPython.core.display.Math object>"
      ]
     },
     "metadata": {},
     "output_type": "display_data"
    }
   ],
   "source": [
    "from imgaug import augmenters as iaa\n",
    "import imgaug as ia\n",
    "f = iaa.Sequential([\n",
    "        iaa.Pad((0,8,0,0))\n",
    "    ])\n",
    "predict('data/images_test/%s.png'%'2', ratio=1, img_augment=f)"
   ]
  },
  {
   "cell_type": "markdown",
   "metadata": {},
   "source": [
    "### Invert"
   ]
  },
  {
   "cell_type": "code",
   "execution_count": 14,
   "metadata": {},
   "outputs": [
    {
     "name": "stdout",
     "output_type": "stream",
     "text": [
      "Pixel Dimensions: (50, 320, 3)\n",
      "data/images_test/2.png\n",
      "Image:\n"
     ]
    },
    {
     "data": {
      "image/png": "[encoded data removed]",
      "text/plain": [
       "<IPython.core.display.Image object>"
      ]
     },
     "metadata": {},
     "output_type": "display_data"
    },
    {
     "name": "stdout",
     "output_type": "stream",
     "text": [
      "Recognized latex:\n",
      "\\overrightarrow { 8 8 8 { 8 8 . 8 g g { { 8 } } { 8 \\! \\overleftarrow { { \\cal H } } \\overleftarrow { { \\cal } } } } { \\cal { } } } \\widehat { { \\cal } } } { { { { } } } { { { \\xi } } { { { \\xi } } { \\widehat { \\xi } } { \\widehat { 8 } } { \\widehat { 8 } } { \\widehat { 8 } } { \\widehat { \\xi } } { \\widehat { \\xi } } { \\widehat { 8 } } { \\tt { 8 } } { \\tt { 8 } } { \\tt { 8 { { { 8 } } { { 8 8 { } { { } } } { 8 } } { \\tt { 8 \\! }\n",
      "\n",
      "Compilation from recognized latex:\n"
     ]
    },
    {
     "data": {
      "text/latex": [
       "$$\\overrightarrow { 8 8 8 { 8 8 . 8 g g { { 8 } } { 8 \\! \\overleftarrow { { \\cal H } } \\overleftarrow { { \\cal } } } } { \\cal { } } } \\widehat { { \\cal } } } { { { { } } } { { { \\xi } } { { { \\xi } } { \\widehat { \\xi } } { \\widehat { 8 } } { \\widehat { 8 } } { \\widehat { 8 } } { \\widehat { \\xi } } { \\widehat { \\xi } } { \\widehat { 8 } } { \\tt { 8 } } { \\tt { 8 } } { \\tt { 8 { { { 8 } } { { 8 8 { } { { } } } { 8 } } { \\tt { 8 \\! }$$"
      ],
      "text/plain": [
       "<IPython.core.display.Math object>"
      ]
     },
     "metadata": {},
     "output_type": "display_data"
    }
   ],
   "source": [
    "f = iaa.Sequential([\n",
    "        iaa.Invert(1, per_channel=True)\n",
    "    ])\n",
    "predict('data/images_test/%s.png'%'2', ratio=1, img_augment=f)"
   ]
  }
 ],
 "metadata": {
  "kernelspec": {
   "display_name": "Python 2",
   "language": "python",
   "name": "python2"
  },
  "language_info": {
   "codemirror_mode": {
    "name": "ipython",
    "version": 2
   },
   "file_extension": ".py",
   "mimetype": "text/x-python",
   "name": "python",
   "nbconvert_exporter": "python",
   "pygments_lexer": "ipython2",
   "version": "2.7.15rc1"
  }
 },
 "nbformat": 4,
 "nbformat_minor": 2
}
