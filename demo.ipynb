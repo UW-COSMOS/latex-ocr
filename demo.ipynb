{
 "cells": [
  {
   "cell_type": "code",
   "execution_count": 3,
   "metadata": {},
   "outputs": [],
   "source": [
    "from demo import img2latex\n",
    "from model.img2seq import Img2SeqModel\n",
    "from model.utils.general import Config, run\n",
    "from model.utils.text import Vocab\n",
    "from IPython.display import Image, display, Math, Latex"
   ]
  },
  {
   "cell_type": "code",
   "execution_count": 2,
   "metadata": {},
   "outputs": [
    {
     "data": {
      "application/javascript": [
       "IPython.OutputArea.prototype._should_scroll = function(lines) {\n",
       "    return false;\n",
       "}"
      ],
      "text/plain": [
       "<IPython.core.display.Javascript object>"
      ]
     },
     "metadata": {},
     "output_type": "display_data"
    }
   ],
   "source": [
    "%%javascript\n",
    "IPython.OutputArea.prototype._should_scroll = function(lines) {\n",
    "    return false;\n",
    "}"
   ]
  },
  {
   "cell_type": "code",
   "execution_count": 4,
   "metadata": {},
   "outputs": [
    {
     "name": "stderr",
     "output_type": "stream",
     "text": [
      "Building model...\n",
      "- done.\n",
      "Reloading the latest trained model...\n"
     ]
    },
    {
     "name": "stdout",
     "output_type": "stream",
     "text": [
      "INFO:tensorflow:Restoring parameters from results/full/model.weights/\n"
     ]
    },
    {
     "name": "stderr",
     "output_type": "stream",
     "text": [
      "Restoring parameters from results/full/model.weights/\n"
     ]
    }
   ],
   "source": [
    "dir_output = \"results/full/\"\n",
    "config_vocab = Config(dir_output + \"vocab.json\")\n",
    "config_model = Config(dir_output + \"model.json\")\n",
    "vocab = Vocab(config_vocab)\n",
    "\n",
    "model = Img2SeqModel(config_model, dir_output, vocab)\n",
    "model.build_pred()\n",
    "model.restore_session(dir_output + \"model.weights/\")"
   ]
  },
  {
   "cell_type": "code",
   "execution_count": 5,
   "metadata": {},
   "outputs": [],
   "source": [
    "def predict(src):\n",
    "    print(\"Source Image:\")\n",
    "    display(Image(src))\n",
    "    result, _ = img2latex(model, src)\n",
    "    print(\"Recognized latex:\")\n",
    "    print(result)\n",
    "    print(\"\\nCompilation from recognized latex:\")\n",
    "    display(Math(result))"
   ]
  },
  {
   "cell_type": "code",
   "execution_count": 14,
   "metadata": {},
   "outputs": [
    {
     "name": "stdout",
     "output_type": "stream",
     "text": [
      "Source Image:\n"
     ]
    },
    {
     "data": {
      "image/png": "[encoded data removed]",
      "text/plain": [
       "<IPython.core.display.Image object>"
      ]
     },
     "metadata": {},
     "output_type": "display_data"
    },
    {
     "name": "stdout",
     "output_type": "stream",
     "text": [
      "Recognized latex:\n",
      "\\eta = - \\frac { 1 } { 2 } \\operatorname { l n } \\left( \\frac { \\operatorname { c o s h } \\left( \\sqrt { 2 } b _ { \\infty } \\sqrt { 1 + \\alpha ^ { 2 } } \\, y - \\mathrm { a r c s i n h } \\; \\alpha \\right) } { \\sqrt { 1 + \\alpha ^ { 2 } } } \\right)\n",
      "\n",
      "Compilation from recognized latex:\n"
     ]
    },
    {
     "data": {
      "text/latex": [
       "$$\\eta = - \\frac { 1 } { 2 } \\operatorname { l n } \\left( \\frac { \\operatorname { c o s h } \\left( \\sqrt { 2 } b _ { \\infty } \\sqrt { 1 + \\alpha ^ { 2 } } \\, y - \\mathrm { a r c s i n h } \\; \\alpha \\right) } { \\sqrt { 1 + \\alpha ^ { 2 } } } \\right)$$"
      ],
      "text/plain": [
       "<IPython.core.display.Math object>"
      ]
     },
     "metadata": {},
     "output_type": "display_data"
    },
    {
     "name": "stdout",
     "output_type": "stream",
     "text": [
      "\n",
      "\n",
      "\n",
      "Source Image:\n"
     ]
    },
    {
     "data": {
      "image/png": "[encoded data removed]",
      "text/plain": [
       "<IPython.core.display.Image object>"
      ]
     },
     "metadata": {},
     "output_type": "display_data"
    },
    {
     "name": "stdout",
     "output_type": "stream",
     "text": [
      "Recognized latex:\n",
      "c _ { \\alpha } = \\sum _ { \\beta \\in \\Lambda _ { R } } \\epsilon ( \\alpha , \\beta ) | \\beta + \\bar { p } > < \\beta + \\bar { p } |\n",
      "\n",
      "Compilation from recognized latex:\n"
     ]
    },
    {
     "data": {
      "text/latex": [
       "$$c _ { \\alpha } = \\sum _ { \\beta \\in \\Lambda _ { R } } \\epsilon ( \\alpha , \\beta ) | \\beta + \\bar { p } > < \\beta + \\bar { p } |$$"
      ],
      "text/plain": [
       "<IPython.core.display.Math object>"
      ]
     },
     "metadata": {},
     "output_type": "display_data"
    },
    {
     "name": "stdout",
     "output_type": "stream",
     "text": [
      "\n",
      "\n",
      "\n",
      "Source Image:\n"
     ]
    },
    {
     "data": {
      "image/png": "[encoded data removed]",
      "text/plain": [
       "<IPython.core.display.Image object>"
      ]
     },
     "metadata": {},
     "output_type": "display_data"
    },
    {
     "name": "stdout",
     "output_type": "stream",
     "text": [
      "Recognized latex:\n",
      "I ^ { c } = \\mp \\frac { \\pi b \\sqrt { 1 - \\Lambda a ^ { 2 } } } { 2 G } ~ ~ ,\n",
      "\n",
      "Compilation from recognized latex:\n"
     ]
    },
    {
     "data": {
      "text/latex": [
       "$$I ^ { c } = \\mp \\frac { \\pi b \\sqrt { 1 - \\Lambda a ^ { 2 } } } { 2 G } ~ ~ ,$$"
      ],
      "text/plain": [
       "<IPython.core.display.Math object>"
      ]
     },
     "metadata": {},
     "output_type": "display_data"
    },
    {
     "name": "stdout",
     "output_type": "stream",
     "text": [
      "\n",
      "\n",
      "\n",
      "Source Image:\n"
     ]
    },
    {
     "data": {
      "image/png": "[encoded data removed]",
      "text/plain": [
       "<IPython.core.display.Image object>"
      ]
     },
     "metadata": {},
     "output_type": "display_data"
    },
    {
     "name": "stdout",
     "output_type": "stream",
     "text": [
      "Recognized latex:\n",
      "\\psi = \\sum _ { i = 0 } ^ { 3 } ( \\psi _ { i } ^ { A } + ( \\psi _ { i } ^ { A } ) ^ { c } ) T ^ { A }\n",
      "\n",
      "Compilation from recognized latex:\n"
     ]
    },
    {
     "data": {
      "text/latex": [
       "$$\\psi = \\sum _ { i = 0 } ^ { 3 } ( \\psi _ { i } ^ { A } + ( \\psi _ { i } ^ { A } ) ^ { c } ) T ^ { A }$$"
      ],
      "text/plain": [
       "<IPython.core.display.Math object>"
      ]
     },
     "metadata": {},
     "output_type": "display_data"
    },
    {
     "name": "stdout",
     "output_type": "stream",
     "text": [
      "\n",
      "\n",
      "\n",
      "Source Image:\n"
     ]
    },
    {
     "data": {
      "image/png": "[encoded data removed]",
      "text/plain": [
       "<IPython.core.display.Image object>"
      ]
     },
     "metadata": {},
     "output_type": "display_data"
    },
    {
     "name": "stdout",
     "output_type": "stream",
     "text": [
      "Recognized latex:\n",
      "\\xi _ { i } ^ { \\ast } , p _ { i } ^ { \\ast } , \\quad i = 2 , \\ldots , l + 1\n",
      "\n",
      "Compilation from recognized latex:\n"
     ]
    },
    {
     "data": {
      "text/latex": [
       "$$\\xi _ { i } ^ { \\ast } , p _ { i } ^ { \\ast } , \\quad i = 2 , \\ldots , l + 1$$"
      ],
      "text/plain": [
       "<IPython.core.display.Math object>"
      ]
     },
     "metadata": {},
     "output_type": "display_data"
    },
    {
     "name": "stdout",
     "output_type": "stream",
     "text": [
      "\n",
      "\n",
      "\n",
      "Source Image:\n"
     ]
    },
    {
     "data": {
      "image/png": "[encoded data removed]",
      "text/plain": [
       "<IPython.core.display.Image object>"
      ]
     },
     "metadata": {},
     "output_type": "display_data"
    },
    {
     "name": "stdout",
     "output_type": "stream",
     "text": [
      "Recognized latex:\n",
      "T _ { G } ( - t , - t ^ { - 1 } ) = T _ { G ^ { * } } ( - t ^ { - 1 } , - t )\n",
      "\n",
      "Compilation from recognized latex:\n"
     ]
    },
    {
     "data": {
      "text/latex": [
       "$$T _ { G } ( - t , - t ^ { - 1 } ) = T _ { G ^ { * } } ( - t ^ { - 1 } , - t )$$"
      ],
      "text/plain": [
       "<IPython.core.display.Math object>"
      ]
     },
     "metadata": {},
     "output_type": "display_data"
    },
    {
     "name": "stdout",
     "output_type": "stream",
     "text": [
      "\n",
      "\n",
      "\n",
      "Source Image:\n"
     ]
    },
    {
     "data": {
      "image/png": "[encoded data removed]",
      "text/plain": [
       "<IPython.core.display.Image object>"
      ]
     },
     "metadata": {},
     "output_type": "display_data"
    },
    {
     "name": "stdout",
     "output_type": "stream",
     "text": [
      "Recognized latex:\n",
      "\\tilde { \\rho } _ { { { q } } = \\sum _ { \\bf { \\bf { \\bf { k } } } [ \\Lambda _ { { \\bf { k } } } ( { \\bf { q } } ) a _ { { \\bf { k } } } ( - { \\bf { q } } ) + \\Lambda _ { { \\bf { k } } } ( - { \\bf { q } } ) a _ { { \\bf { k } } } ^ { \\dagger } ( { \\bf { q } } ) ]\n",
      "\n",
      "Compilation from recognized latex:\n"
     ]
    },
    {
     "data": {
      "text/latex": [
       "$$\\tilde { \\rho } _ { { { q } } = \\sum _ { \\bf { \\bf { \\bf { k } } } [ \\Lambda _ { { \\bf { k } } } ( { \\bf { q } } ) a _ { { \\bf { k } } } ( - { \\bf { q } } ) + \\Lambda _ { { \\bf { k } } } ( - { \\bf { q } } ) a _ { { \\bf { k } } } ^ { \\dagger } ( { \\bf { q } } ) ]$$"
      ],
      "text/plain": [
       "<IPython.core.display.Math object>"
      ]
     },
     "metadata": {},
     "output_type": "display_data"
    },
    {
     "name": "stdout",
     "output_type": "stream",
     "text": [
      "\n",
      "\n",
      "\n",
      "Source Image:\n"
     ]
    },
    {
     "data": {
      "image/png": "[encoded data removed]",
      "text/plain": [
       "<IPython.core.display.Image object>"
      ]
     },
     "metadata": {},
     "output_type": "display_data"
    },
    {
     "name": "stdout",
     "output_type": "stream",
     "text": [
      "Recognized latex:\n",
      "r _ { h } ^ { 2 } = \\frac { l ^ { 2 } } { 2 } ( \\sqrt { K ^ { 2 } + 4 l ^ { - 2 } \\mu } - K ) .\n",
      "\n",
      "Compilation from recognized latex:\n"
     ]
    },
    {
     "data": {
      "text/latex": [
       "$$r _ { h } ^ { 2 } = \\frac { l ^ { 2 } } { 2 } ( \\sqrt { K ^ { 2 } + 4 l ^ { - 2 } \\mu } - K ) .$$"
      ],
      "text/plain": [
       "<IPython.core.display.Math object>"
      ]
     },
     "metadata": {},
     "output_type": "display_data"
    },
    {
     "name": "stdout",
     "output_type": "stream",
     "text": [
      "\n",
      "\n",
      "\n",
      "Source Image:\n"
     ]
    },
    {
     "data": {
      "image/png": "[encoded data removed]",
      "text/plain": [
       "<IPython.core.display.Image object>"
      ]
     },
     "metadata": {},
     "output_type": "display_data"
    },
    {
     "name": "stdout",
     "output_type": "stream",
     "text": [
      "Recognized latex:\n",
      "\\delta F \\left( \\operatorname { s i n } \\theta \\, d x ^ { 0 } d x ^ { 1 } , 0 , 0 , \\epsilon \\, d x ^ { 0 } \\cdots d x ^ { 3 } \\right) .\n",
      "\n",
      "Compilation from recognized latex:\n"
     ]
    },
    {
     "data": {
      "text/latex": [
       "$$\\delta F \\left( \\operatorname { s i n } \\theta \\, d x ^ { 0 } d x ^ { 1 } , 0 , 0 , \\epsilon \\, d x ^ { 0 } \\cdots d x ^ { 3 } \\right) .$$"
      ],
      "text/plain": [
       "<IPython.core.display.Math object>"
      ]
     },
     "metadata": {},
     "output_type": "display_data"
    },
    {
     "name": "stdout",
     "output_type": "stream",
     "text": [
      "\n",
      "\n",
      "\n",
      "Source Image:\n"
     ]
    },
    {
     "data": {
      "image/png": "[encoded data removed]",
      "text/plain": [
       "<IPython.core.display.Image object>"
      ]
     },
     "metadata": {},
     "output_type": "display_data"
    },
    {
     "name": "stdout",
     "output_type": "stream",
     "text": [
      "Recognized latex:\n",
      "Y ( T , U ) = \\int _ { \\cal F } \\frac { d ^ { 2 } \\tau } { \\Im \\tau } \\Gamma _ { 2 , 2 } ( T , U ) \\left( - 6 \\left[ \\overline { { \\Omega } } _ { 2 } - \\frac { 1 } { 8 \\pi \\Im \\tau } \\right] \\frac { \\overline { \\Omega } } { } { { q } } ^ { 2 4 } } - \\frac { \\bar { \\bar { } { 8 } + 1 2 6 \\right) 6 \\right)\n",
      "\n",
      "Compilation from recognized latex:\n"
     ]
    },
    {
     "data": {
      "text/latex": [
       "$$Y ( T , U ) = \\int _ { \\cal F } \\frac { d ^ { 2 } \\tau } { \\Im \\tau } \\Gamma _ { 2 , 2 } ( T , U ) \\left( - 6 \\left[ \\overline { { \\Omega } } _ { 2 } - \\frac { 1 } { 8 \\pi \\Im \\tau } \\right] \\frac { \\overline { \\Omega } } { } { { q } } ^ { 2 4 } } - \\frac { \\bar { \\bar { } { 8 } + 1 2 6 \\right) 6 \\right)$$"
      ],
      "text/plain": [
       "<IPython.core.display.Math object>"
      ]
     },
     "metadata": {},
     "output_type": "display_data"
    },
    {
     "name": "stdout",
     "output_type": "stream",
     "text": [
      "\n",
      "\n",
      "\n",
      "Source Image:\n"
     ]
    },
    {
     "data": {
      "image/png": "[encoded data removed]",
      "text/plain": [
       "<IPython.core.display.Image object>"
      ]
     },
     "metadata": {},
     "output_type": "display_data"
    },
    {
     "name": "stdout",
     "output_type": "stream",
     "text": [
      "Recognized latex:\n",
      "\\Psi _ { B _ { z } } ( \\phi _ { 0 } ) = \\operatorname { e x p } ( - 2 \\pi \\mu _ { B } e ^ { b \\phi _ { 0 } } )\n",
      "\n",
      "Compilation from recognized latex:\n"
     ]
    },
    {
     "data": {
      "text/latex": [
       "$$\\Psi _ { B _ { z } } ( \\phi _ { 0 } ) = \\operatorname { e x p } ( - 2 \\pi \\mu _ { B } e ^ { b \\phi _ { 0 } } )$$"
      ],
      "text/plain": [
       "<IPython.core.display.Math object>"
      ]
     },
     "metadata": {},
     "output_type": "display_data"
    },
    {
     "name": "stdout",
     "output_type": "stream",
     "text": [
      "\n",
      "\n",
      "\n",
      "Source Image:\n"
     ]
    },
    {
     "data": {
      "image/png": "[encoded data removed]",
      "text/plain": [
       "<IPython.core.display.Image object>"
      ]
     },
     "metadata": {},
     "output_type": "display_data"
    },
    {
     "name": "stdout",
     "output_type": "stream",
     "text": [
      "Recognized latex:\n",
      "D ^ { + + } L ^ { + + } = 0 \\quad \\Leftrightarrow \\quad ( D ^ { -- } ) ^ { 3 } L ^ { + + } = 0\n",
      "\n",
      "Compilation from recognized latex:\n"
     ]
    },
    {
     "data": {
      "text/latex": [
       "$$D ^ { + + } L ^ { + + } = 0 \\quad \\Leftrightarrow \\quad ( D ^ { -- } ) ^ { 3 } L ^ { + + } = 0$$"
      ],
      "text/plain": [
       "<IPython.core.display.Math object>"
      ]
     },
     "metadata": {},
     "output_type": "display_data"
    },
    {
     "name": "stdout",
     "output_type": "stream",
     "text": [
      "\n",
      "\n",
      "\n",
      "Source Image:\n"
     ]
    },
    {
     "data": {
      "image/png": "[encoded data removed]",
      "text/plain": [
       "<IPython.core.display.Image object>"
      ]
     },
     "metadata": {},
     "output_type": "display_data"
    },
    {
     "name": "stdout",
     "output_type": "stream",
     "text": [
      "Recognized latex:\n",
      "S _ { s i n g } = \\frac { \\pi ^ { 2 } C } { \\kappa } .\n",
      "\n",
      "Compilation from recognized latex:\n"
     ]
    },
    {
     "data": {
      "text/latex": [
       "$$S _ { s i n g } = \\frac { \\pi ^ { 2 } C } { \\kappa } .$$"
      ],
      "text/plain": [
       "<IPython.core.display.Math object>"
      ]
     },
     "metadata": {},
     "output_type": "display_data"
    },
    {
     "name": "stdout",
     "output_type": "stream",
     "text": [
      "\n",
      "\n",
      "\n",
      "Source Image:\n"
     ]
    },
    {
     "data": {
      "image/png": "[encoded data removed]",
      "text/plain": [
       "<IPython.core.display.Image object>"
      ]
     },
     "metadata": {},
     "output_type": "display_data"
    },
    {
     "name": "stdout",
     "output_type": "stream",
     "text": [
      "Recognized latex:\n",
      "M ^ { a b } = L ^ { a b } + { \\cal S } ^ { a b } , \\qquad L ^ { a b } = x ^ { a } p ^ { b } - x ^ { b } p ^ { a } ,\n",
      "\n",
      "Compilation from recognized latex:\n"
     ]
    },
    {
     "data": {
      "text/latex": [
       "$$M ^ { a b } = L ^ { a b } + { \\cal S } ^ { a b } , \\qquad L ^ { a b } = x ^ { a } p ^ { b } - x ^ { b } p ^ { a } ,$$"
      ],
      "text/plain": [
       "<IPython.core.display.Math object>"
      ]
     },
     "metadata": {},
     "output_type": "display_data"
    },
    {
     "name": "stdout",
     "output_type": "stream",
     "text": [
      "\n",
      "\n",
      "\n",
      "Source Image:\n"
     ]
    },
    {
     "data": {
      "image/png": "[encoded data removed]",
      "text/plain": [
       "<IPython.core.display.Image object>"
      ]
     },
     "metadata": {},
     "output_type": "display_data"
    },
    {
     "name": "stdout",
     "output_type": "stream",
     "text": [
      "Recognized latex:\n",
      "t \\propto \\bar { t } ^ { ( 1 + \\lambda \\bar { p } _ { D \\, + } ) } \\; ,\n",
      "\n",
      "Compilation from recognized latex:\n"
     ]
    },
    {
     "data": {
      "text/latex": [
       "$$t \\propto \\bar { t } ^ { ( 1 + \\lambda \\bar { p } _ { D \\, + } ) } \\; ,$$"
      ],
      "text/plain": [
       "<IPython.core.display.Math object>"
      ]
     },
     "metadata": {},
     "output_type": "display_data"
    },
    {
     "name": "stdout",
     "output_type": "stream",
     "text": [
      "\n",
      "\n",
      "\n",
      "Source Image:\n"
     ]
    },
    {
     "data": {
      "image/png": "[encoded data removed]",
      "text/plain": [
       "<IPython.core.display.Image object>"
      ]
     },
     "metadata": {},
     "output_type": "display_data"
    },
    {
     "name": "stdout",
     "output_type": "stream",
     "text": [
      "Recognized latex:\n",
      "R = 2 \\sqrt { \\frac { x } { ( n - 2 ) / r _ { + } - 2 m ^ { \\prime } ( r _ { + } ) / r _ { + } ^ { n - 2 } } } .\n",
      "\n",
      "Compilation from recognized latex:\n"
     ]
    },
    {
     "data": {
      "text/latex": [
       "$$R = 2 \\sqrt { \\frac { x } { ( n - 2 ) / r _ { + } - 2 m ^ { \\prime } ( r _ { + } ) / r _ { + } ^ { n - 2 } } } .$$"
      ],
      "text/plain": [
       "<IPython.core.display.Math object>"
      ]
     },
     "metadata": {},
     "output_type": "display_data"
    },
    {
     "name": "stdout",
     "output_type": "stream",
     "text": [
      "\n",
      "\n",
      "\n",
      "Source Image:\n"
     ]
    },
    {
     "data": {
      "image/png": "[encoded data removed]",
      "text/plain": [
       "<IPython.core.display.Image object>"
      ]
     },
     "metadata": {},
     "output_type": "display_data"
    },
    {
     "name": "stdout",
     "output_type": "stream",
     "text": [
      "Recognized latex:\n",
      "\\mu = \\Big ( \\frac { N } { 4 } } } \\Big ) ^ { 1 / 3 } - { \\frac { 1 } { 2 } } + . . . \\ .\n",
      "\n",
      "Compilation from recognized latex:\n"
     ]
    },
    {
     "data": {
      "text/latex": [
       "$$\\mu = \\Big ( \\frac { N } { 4 } } } \\Big ) ^ { 1 / 3 } - { \\frac { 1 } { 2 } } + . . . \\ .$$"
      ],
      "text/plain": [
       "<IPython.core.display.Math object>"
      ]
     },
     "metadata": {},
     "output_type": "display_data"
    },
    {
     "name": "stdout",
     "output_type": "stream",
     "text": [
      "\n",
      "\n",
      "\n",
      "Source Image:\n"
     ]
    },
    {
     "data": {
      "image/png": "[encoded data removed]",
      "text/plain": [
       "<IPython.core.display.Image object>"
      ]
     },
     "metadata": {},
     "output_type": "display_data"
    },
    {
     "name": "stdout",
     "output_type": "stream",
     "text": [
      "Recognized latex:\n",
      "f _ { i } = - \\alpha \\, H ^ { - 5 / 4 } \\, \\partial _ { i } H\n",
      "\n",
      "Compilation from recognized latex:\n"
     ]
    },
    {
     "data": {
      "text/latex": [
       "$$f _ { i } = - \\alpha \\, H ^ { - 5 / 4 } \\, \\partial _ { i } H$$"
      ],
      "text/plain": [
       "<IPython.core.display.Math object>"
      ]
     },
     "metadata": {},
     "output_type": "display_data"
    },
    {
     "name": "stdout",
     "output_type": "stream",
     "text": [
      "\n",
      "\n",
      "\n",
      "Source Image:\n"
     ]
    },
    {
     "data": {
      "image/png": "[encoded data removed]",
      "text/plain": [
       "<IPython.core.display.Image object>"
      ]
     },
     "metadata": {},
     "output_type": "display_data"
    },
    {
     "name": "stdout",
     "output_type": "stream",
     "text": [
      "Recognized latex:\n",
      "d s ^ { 2 } = g _ { a b } d x ^ { a } d x ^ { b } = d r ^ { 2 } + a ^ { 2 } ( r ) \\gamma _ { \\mu \\nu } d x ^ { \\mu } d x ^ { \\nu } ,\n",
      "\n",
      "Compilation from recognized latex:\n"
     ]
    },
    {
     "data": {
      "text/latex": [
       "$$d s ^ { 2 } = g _ { a b } d x ^ { a } d x ^ { b } = d r ^ { 2 } + a ^ { 2 } ( r ) \\gamma _ { \\mu \\nu } d x ^ { \\mu } d x ^ { \\nu } ,$$"
      ],
      "text/plain": [
       "<IPython.core.display.Math object>"
      ]
     },
     "metadata": {},
     "output_type": "display_data"
    },
    {
     "name": "stdout",
     "output_type": "stream",
     "text": [
      "\n",
      "\n",
      "\n",
      "Source Image:\n"
     ]
    },
    {
     "data": {
      "image/png": "[encoded data removed]",
      "text/plain": [
       "<IPython.core.display.Image object>"
      ]
     },
     "metadata": {},
     "output_type": "display_data"
    },
    {
     "name": "stdout",
     "output_type": "stream",
     "text": [
      "Recognized latex:\n",
      "f ( x , y ) \\; = \\; \\Phi ( x , y ) + \\Phi ( x , - y ) + \\Phi ( x , - y ) \\Phi ( x , y ) .\n",
      "\n",
      "Compilation from recognized latex:\n"
     ]
    },
    {
     "data": {
      "text/latex": [
       "$$f ( x , y ) \\; = \\; \\Phi ( x , y ) + \\Phi ( x , - y ) + \\Phi ( x , - y ) \\Phi ( x , y ) .$$"
      ],
      "text/plain": [
       "<IPython.core.display.Math object>"
      ]
     },
     "metadata": {},
     "output_type": "display_data"
    },
    {
     "name": "stdout",
     "output_type": "stream",
     "text": [
      "\n",
      "\n",
      "\n"
     ]
    }
   ],
   "source": [
    "for i in range(1,200, 10):\n",
    "    predict('data/images_test/%d.png'%i)\n",
    "    print('\\n\\n')"
   ]
  },
  {
   "cell_type": "code",
   "execution_count": null,
   "metadata": {},
   "outputs": [],
   "source": []
  }
 ],
 "metadata": {
  "kernelspec": {
   "display_name": "Python 2",
   "language": "python",
   "name": "python2"
  },
  "language_info": {
   "codemirror_mode": {
    "name": "ipython",
    "version": 2
   },
   "file_extension": ".py",
   "mimetype": "text/x-python",
   "name": "python",
   "nbconvert_exporter": "python",
   "pygments_lexer": "ipython2",
   "version": "2.7.15rc1"
  }
 },
 "nbformat": 4,
 "nbformat_minor": 2
}
