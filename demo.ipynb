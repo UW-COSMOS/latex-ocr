{
 "cells": [
  {
   "cell_type": "code",
   "execution_count": 20,
   "metadata": {},
   "outputs": [],
   "source": [
    "from demo import img2latex\n",
    "from model.img2seq import Img2SeqModel\n",
    "from model.utils.general import Config, run\n",
    "from model.utils.text import Vocab\n",
    "from IPython.display import Image, display, Math, Latex\n",
    "from wand.image import Image as WImage"
   ]
  },
  {
   "cell_type": "code",
   "execution_count": 21,
   "metadata": {},
   "outputs": [
    {
     "data": {
      "application/javascript": [
       "IPython.OutputArea.prototype._should_scroll = function(lines) {\n",
       "    return false;\n",
       "}"
      ],
      "text/plain": [
       "<IPython.core.display.Javascript object>"
      ]
     },
     "metadata": {},
     "output_type": "display_data"
    }
   ],
   "source": [
    "%%javascript\n",
    "IPython.OutputArea.prototype._should_scroll = function(lines) {\n",
    "    return false;\n",
    "}"
   ]
  },
  {
   "cell_type": "code",
   "execution_count": 22,
   "metadata": {},
   "outputs": [
    {
     "name": "stderr",
     "output_type": "stream",
     "text": [
      "Building model...\n",
      "- done.\n",
      "Reloading the latest trained model...\n"
     ]
    },
    {
     "name": "stdout",
     "output_type": "stream",
     "text": [
      "INFO:tensorflow:Restoring parameters from results/full/model.weights/\n"
     ]
    },
    {
     "name": "stderr",
     "output_type": "stream",
     "text": [
      "Restoring parameters from results/full/model.weights/\n"
     ]
    }
   ],
   "source": [
    "dir_output = \"results/full/\"\n",
    "config_vocab = Config(dir_output + \"vocab.json\")\n",
    "config_model = Config(dir_output + \"model.json\")\n",
    "vocab = Vocab(config_vocab)\n",
    "\n",
    "model = Img2SeqModel(config_model, dir_output, vocab)\n",
    "model.build_pred()\n",
    "model.restore_session(dir_output + \"model.weights/\")"
   ]
  },
  {
   "cell_type": "code",
   "execution_count": 11,
   "metadata": {},
   "outputs": [],
   "source": [
    "def predict(src, ratio=1):\n",
    "    print(\"Source Image:\")\n",
    "    \n",
    "    result, _ = img2latex(model, src, ratio)\n",
    "    try:\n",
    "        display(Image('tmp/'+src.split('/')[-1].replace('pdf', 'png')))\n",
    "    except:\n",
    "        WImage(filename=src)\n",
    "    print(\"Recognized latex:\")\n",
    "    print(result)\n",
    "    print(\"\\nCompilation from recognized latex:\")\n",
    "    display(Math(result))"
   ]
  },
  {
   "cell_type": "markdown",
   "metadata": {},
   "source": [
    "# Examples from test data"
   ]
  },
  {
   "cell_type": "code",
   "execution_count": 18,
   "metadata": {},
   "outputs": [
    {
     "name": "stdout",
     "output_type": "stream",
     "text": [
      "Source Image:\n",
      "(50, 320, 3)\n"
     ]
    },
    {
     "data": {
      "image/png": "[encoded data removed]",
      "text/plain": [
       "<IPython.core.display.Image object>"
      ]
     },
     "metadata": {},
     "output_type": "display_data"
    },
    {
     "name": "stdout",
     "output_type": "stream",
     "text": [
      "Recognized latex:\n",
      "\\eta = - \\frac { 1 } { 2 } \\operatorname { l n } \\left( \\frac { \\operatorname { c o s h } \\left( \\sqrt { 2 } b _ { \\infty } \\sqrt { 1 + \\alpha ^ { 2 } } \\, y - \\mathrm { a r c s i n h } \\; \\alpha \\right) } { \\sqrt { 1 + \\alpha ^ { 2 } } } \\right)\n",
      "\n",
      "Compilation from recognized latex:\n"
     ]
    },
    {
     "data": {
      "text/latex": [
       "$$\\eta = - \\frac { 1 } { 2 } \\operatorname { l n } \\left( \\frac { \\operatorname { c o s h } \\left( \\sqrt { 2 } b _ { \\infty } \\sqrt { 1 + \\alpha ^ { 2 } } \\, y - \\mathrm { a r c s i n h } \\; \\alpha \\right) } { \\sqrt { 1 + \\alpha ^ { 2 } } } \\right)$$"
      ],
      "text/plain": [
       "<IPython.core.display.Math object>"
      ]
     },
     "metadata": {},
     "output_type": "display_data"
    },
    {
     "name": "stdout",
     "output_type": "stream",
     "text": [
      "\n",
      "\n",
      "\n",
      "Source Image:\n",
      "(40, 240, 3)\n"
     ]
    },
    {
     "data": {
      "image/png": "[encoded data removed]",
      "text/plain": [
       "<IPython.core.display.Image object>"
      ]
     },
     "metadata": {},
     "output_type": "display_data"
    },
    {
     "name": "stdout",
     "output_type": "stream",
     "text": [
      "Recognized latex:\n",
      "c _ { \\alpha } = \\sum _ { \\beta \\in \\Lambda _ { R } } \\epsilon ( \\alpha , \\beta ) | \\beta + \\bar { p } > < \\beta + \\bar { p } |\n",
      "\n",
      "Compilation from recognized latex:\n"
     ]
    },
    {
     "data": {
      "text/latex": [
       "$$c _ { \\alpha } = \\sum _ { \\beta \\in \\Lambda _ { R } } \\epsilon ( \\alpha , \\beta ) | \\beta + \\bar { p } > < \\beta + \\bar { p } |$$"
      ],
      "text/plain": [
       "<IPython.core.display.Math object>"
      ]
     },
     "metadata": {},
     "output_type": "display_data"
    },
    {
     "name": "stdout",
     "output_type": "stream",
     "text": [
      "\n",
      "\n",
      "\n",
      "Source Image:\n",
      "(40, 160, 3)\n"
     ]
    },
    {
     "data": {
      "image/png": "[encoded data removed]",
      "text/plain": [
       "<IPython.core.display.Image object>"
      ]
     },
     "metadata": {},
     "output_type": "display_data"
    },
    {
     "name": "stdout",
     "output_type": "stream",
     "text": [
      "Recognized latex:\n",
      "I ^ { c } = \\mp \\frac { \\pi b \\sqrt { 1 - \\Lambda a ^ { 2 } } } { 2 G } ~ ~ ,\n",
      "\n",
      "Compilation from recognized latex:\n"
     ]
    },
    {
     "data": {
      "text/latex": [
       "$$I ^ { c } = \\mp \\frac { \\pi b \\sqrt { 1 - \\Lambda a ^ { 2 } } } { 2 G } ~ ~ ,$$"
      ],
      "text/plain": [
       "<IPython.core.display.Math object>"
      ]
     },
     "metadata": {},
     "output_type": "display_data"
    },
    {
     "name": "stdout",
     "output_type": "stream",
     "text": [
      "\n",
      "\n",
      "\n",
      "Source Image:\n",
      "(50, 200, 3)\n"
     ]
    },
    {
     "data": {
      "image/png": "[encoded data removed]",
      "text/plain": [
       "<IPython.core.display.Image object>"
      ]
     },
     "metadata": {},
     "output_type": "display_data"
    },
    {
     "name": "stdout",
     "output_type": "stream",
     "text": [
      "Recognized latex:\n",
      "\\psi = \\sum _ { i = 0 } ^ { 3 } ( \\psi _ { i } ^ { A } + ( \\psi _ { i } ^ { A } ) ^ { c } ) T ^ { A }\n",
      "\n",
      "Compilation from recognized latex:\n"
     ]
    },
    {
     "data": {
      "text/latex": [
       "$$\\psi = \\sum _ { i = 0 } ^ { 3 } ( \\psi _ { i } ^ { A } + ( \\psi _ { i } ^ { A } ) ^ { c } ) T ^ { A }$$"
      ],
      "text/plain": [
       "<IPython.core.display.Math object>"
      ]
     },
     "metadata": {},
     "output_type": "display_data"
    },
    {
     "name": "stdout",
     "output_type": "stream",
     "text": [
      "\n",
      "\n",
      "\n",
      "Source Image:\n",
      "(40, 160, 3)\n"
     ]
    },
    {
     "data": {
      "image/png": "[encoded data removed]",
      "text/plain": [
       "<IPython.core.display.Image object>"
      ]
     },
     "metadata": {},
     "output_type": "display_data"
    },
    {
     "name": "stdout",
     "output_type": "stream",
     "text": [
      "Recognized latex:\n",
      "\\xi _ { i } ^ { \\ast } , p _ { i } ^ { \\ast } , \\quad i = 2 , \\ldots , l + 1\n",
      "\n",
      "Compilation from recognized latex:\n"
     ]
    },
    {
     "data": {
      "text/latex": [
       "$$\\xi _ { i } ^ { \\ast } , p _ { i } ^ { \\ast } , \\quad i = 2 , \\ldots , l + 1$$"
      ],
      "text/plain": [
       "<IPython.core.display.Math object>"
      ]
     },
     "metadata": {},
     "output_type": "display_data"
    },
    {
     "name": "stdout",
     "output_type": "stream",
     "text": [
      "\n",
      "\n",
      "\n",
      "Source Image:\n",
      "(40, 200, 3)\n"
     ]
    },
    {
     "data": {
      "image/png": "[encoded data removed]",
      "text/plain": [
       "<IPython.core.display.Image object>"
      ]
     },
     "metadata": {},
     "output_type": "display_data"
    },
    {
     "name": "stdout",
     "output_type": "stream",
     "text": [
      "Recognized latex:\n",
      "T _ { G } ( - t , - t ^ { - 1 } ) = T _ { G ^ { * } } ( - t ^ { - 1 } , - t )\n",
      "\n",
      "Compilation from recognized latex:\n"
     ]
    },
    {
     "data": {
      "text/latex": [
       "$$T _ { G } ( - t , - t ^ { - 1 } ) = T _ { G ^ { * } } ( - t ^ { - 1 } , - t )$$"
      ],
      "text/plain": [
       "<IPython.core.display.Math object>"
      ]
     },
     "metadata": {},
     "output_type": "display_data"
    },
    {
     "name": "stdout",
     "output_type": "stream",
     "text": [
      "\n",
      "\n",
      "\n",
      "Source Image:\n",
      "(40, 280, 3)\n"
     ]
    },
    {
     "data": {
      "image/png": "[encoded data removed]",
      "text/plain": [
       "<IPython.core.display.Image object>"
      ]
     },
     "metadata": {},
     "output_type": "display_data"
    },
    {
     "name": "stdout",
     "output_type": "stream",
     "text": [
      "Recognized latex:\n",
      "\\tilde { \\rho } _ { { { q } } = \\sum _ { \\bf { \\bf { \\bf { k } } } [ \\Lambda _ { { \\bf { k } } } ( { \\bf { q } } ) a _ { { \\bf { k } } } ( - { \\bf { q } } ) + \\Lambda _ { { \\bf { k } } } ( - { \\bf { q } } ) a _ { { \\bf { k } } } ^ { \\dagger } ( { \\bf { q } } ) ]\n",
      "\n",
      "Compilation from recognized latex:\n"
     ]
    },
    {
     "data": {
      "text/latex": [
       "$$\\tilde { \\rho } _ { { { q } } = \\sum _ { \\bf { \\bf { \\bf { k } } } [ \\Lambda _ { { \\bf { k } } } ( { \\bf { q } } ) a _ { { \\bf { k } } } ( - { \\bf { q } } ) + \\Lambda _ { { \\bf { k } } } ( - { \\bf { q } } ) a _ { { \\bf { k } } } ^ { \\dagger } ( { \\bf { q } } ) ]$$"
      ],
      "text/plain": [
       "<IPython.core.display.Math object>"
      ]
     },
     "metadata": {},
     "output_type": "display_data"
    },
    {
     "name": "stdout",
     "output_type": "stream",
     "text": [
      "\n",
      "\n",
      "\n",
      "Source Image:\n",
      "(40, 200, 3)\n"
     ]
    },
    {
     "data": {
      "image/png": "[encoded data removed]",
      "text/plain": [
       "<IPython.core.display.Image object>"
      ]
     },
     "metadata": {},
     "output_type": "display_data"
    },
    {
     "name": "stdout",
     "output_type": "stream",
     "text": [
      "Recognized latex:\n",
      "r _ { h } ^ { 2 } = \\frac { l ^ { 2 } } { 2 } ( \\sqrt { K ^ { 2 } + 4 l ^ { - 2 } \\mu } - K ) .\n",
      "\n",
      "Compilation from recognized latex:\n"
     ]
    },
    {
     "data": {
      "text/latex": [
       "$$r _ { h } ^ { 2 } = \\frac { l ^ { 2 } } { 2 } ( \\sqrt { K ^ { 2 } + 4 l ^ { - 2 } \\mu } - K ) .$$"
      ],
      "text/plain": [
       "<IPython.core.display.Math object>"
      ]
     },
     "metadata": {},
     "output_type": "display_data"
    },
    {
     "name": "stdout",
     "output_type": "stream",
     "text": [
      "\n",
      "\n",
      "\n",
      "Source Image:\n",
      "(40, 240, 3)\n"
     ]
    },
    {
     "data": {
      "image/png": "[encoded data removed]",
      "text/plain": [
       "<IPython.core.display.Image object>"
      ]
     },
     "metadata": {},
     "output_type": "display_data"
    },
    {
     "name": "stdout",
     "output_type": "stream",
     "text": [
      "Recognized latex:\n",
      "\\delta F \\left( \\operatorname { s i n } \\theta \\, d x ^ { 0 } d x ^ { 1 } , 0 , 0 , \\epsilon \\, d x ^ { 0 } \\cdots d x ^ { 3 } \\right) .\n",
      "\n",
      "Compilation from recognized latex:\n"
     ]
    },
    {
     "data": {
      "text/latex": [
       "$$\\delta F \\left( \\operatorname { s i n } \\theta \\, d x ^ { 0 } d x ^ { 1 } , 0 , 0 , \\epsilon \\, d x ^ { 0 } \\cdots d x ^ { 3 } \\right) .$$"
      ],
      "text/plain": [
       "<IPython.core.display.Math object>"
      ]
     },
     "metadata": {},
     "output_type": "display_data"
    },
    {
     "name": "stdout",
     "output_type": "stream",
     "text": [
      "\n",
      "\n",
      "\n",
      "Source Image:\n",
      "(100, 500, 3)\n"
     ]
    },
    {
     "data": {
      "image/png": "[encoded data removed]",
      "text/plain": [
       "<IPython.core.display.Image object>"
      ]
     },
     "metadata": {},
     "output_type": "display_data"
    },
    {
     "name": "stdout",
     "output_type": "stream",
     "text": [
      "Recognized latex:\n",
      "Y ( T , U ) = \\int _ { \\cal F } \\frac { d ^ { 2 } \\tau } { \\Im \\tau } \\Gamma _ { 2 , 2 } ( T , U ) \\left( - 6 \\left[ \\overline { { \\Omega } } _ { 2 } - \\frac { 1 } { 8 \\pi \\Im \\tau } \\right] \\frac { \\overline { \\Omega } } { } { { q } } ^ { 2 4 } } - \\frac { \\bar { \\bar { } { 8 } + 1 2 6 \\right) 6 \\right)\n",
      "\n",
      "Compilation from recognized latex:\n"
     ]
    },
    {
     "data": {
      "text/latex": [
       "$$Y ( T , U ) = \\int _ { \\cal F } \\frac { d ^ { 2 } \\tau } { \\Im \\tau } \\Gamma _ { 2 , 2 } ( T , U ) \\left( - 6 \\left[ \\overline { { \\Omega } } _ { 2 } - \\frac { 1 } { 8 \\pi \\Im \\tau } \\right] \\frac { \\overline { \\Omega } } { } { { q } } ^ { 2 4 } } - \\frac { \\bar { \\bar { } { 8 } + 1 2 6 \\right) 6 \\right)$$"
      ],
      "text/plain": [
       "<IPython.core.display.Math object>"
      ]
     },
     "metadata": {},
     "output_type": "display_data"
    },
    {
     "name": "stdout",
     "output_type": "stream",
     "text": [
      "\n",
      "\n",
      "\n",
      "Source Image:\n",
      "(40, 200, 3)\n"
     ]
    },
    {
     "data": {
      "image/png": "[encoded data removed]",
      "text/plain": [
       "<IPython.core.display.Image object>"
      ]
     },
     "metadata": {},
     "output_type": "display_data"
    },
    {
     "name": "stdout",
     "output_type": "stream",
     "text": [
      "Recognized latex:\n",
      "\\Psi _ { B _ { z } } ( \\phi _ { 0 } ) = \\operatorname { e x p } ( - 2 \\pi \\mu _ { B } e ^ { b \\phi _ { 0 } } )\n",
      "\n",
      "Compilation from recognized latex:\n"
     ]
    },
    {
     "data": {
      "text/latex": [
       "$$\\Psi _ { B _ { z } } ( \\phi _ { 0 } ) = \\operatorname { e x p } ( - 2 \\pi \\mu _ { B } e ^ { b \\phi _ { 0 } } )$$"
      ],
      "text/plain": [
       "<IPython.core.display.Math object>"
      ]
     },
     "metadata": {},
     "output_type": "display_data"
    },
    {
     "name": "stdout",
     "output_type": "stream",
     "text": [
      "\n",
      "\n",
      "\n",
      "Source Image:\n",
      "(40, 240, 3)\n"
     ]
    },
    {
     "data": {
      "image/png": "[encoded data removed]",
      "text/plain": [
       "<IPython.core.display.Image object>"
      ]
     },
     "metadata": {},
     "output_type": "display_data"
    },
    {
     "name": "stdout",
     "output_type": "stream",
     "text": [
      "Recognized latex:\n",
      "D ^ { + + } L ^ { + + } = 0 \\quad \\Leftrightarrow \\quad ( D ^ { -- } ) ^ { 3 } L ^ { + + } = 0\n",
      "\n",
      "Compilation from recognized latex:\n"
     ]
    },
    {
     "data": {
      "text/latex": [
       "$$D ^ { + + } L ^ { + + } = 0 \\quad \\Leftrightarrow \\quad ( D ^ { -- } ) ^ { 3 } L ^ { + + } = 0$$"
      ],
      "text/plain": [
       "<IPython.core.display.Math object>"
      ]
     },
     "metadata": {},
     "output_type": "display_data"
    },
    {
     "name": "stdout",
     "output_type": "stream",
     "text": [
      "\n",
      "\n",
      "\n",
      "Source Image:\n",
      "(50, 120, 3)\n"
     ]
    },
    {
     "data": {
      "image/png": "[encoded data removed]",
      "text/plain": [
       "<IPython.core.display.Image object>"
      ]
     },
     "metadata": {},
     "output_type": "display_data"
    },
    {
     "name": "stdout",
     "output_type": "stream",
     "text": [
      "Recognized latex:\n",
      "S _ { s i n g } = \\frac { \\pi ^ { 2 } C } { \\kappa } .\n",
      "\n",
      "Compilation from recognized latex:\n"
     ]
    },
    {
     "data": {
      "text/latex": [
       "$$S _ { s i n g } = \\frac { \\pi ^ { 2 } C } { \\kappa } .$$"
      ],
      "text/plain": [
       "<IPython.core.display.Math object>"
      ]
     },
     "metadata": {},
     "output_type": "display_data"
    },
    {
     "name": "stdout",
     "output_type": "stream",
     "text": [
      "\n",
      "\n",
      "\n",
      "Source Image:\n",
      "(40, 280, 3)\n"
     ]
    },
    {
     "data": {
      "image/png": "[encoded data removed]",
      "text/plain": [
       "<IPython.core.display.Image object>"
      ]
     },
     "metadata": {},
     "output_type": "display_data"
    },
    {
     "name": "stdout",
     "output_type": "stream",
     "text": [
      "Recognized latex:\n",
      "M ^ { a b } = L ^ { a b } + { \\cal S } ^ { a b } , \\qquad L ^ { a b } = x ^ { a } p ^ { b } - x ^ { b } p ^ { a } ,\n",
      "\n",
      "Compilation from recognized latex:\n"
     ]
    },
    {
     "data": {
      "text/latex": [
       "$$M ^ { a b } = L ^ { a b } + { \\cal S } ^ { a b } , \\qquad L ^ { a b } = x ^ { a } p ^ { b } - x ^ { b } p ^ { a } ,$$"
      ],
      "text/plain": [
       "<IPython.core.display.Math object>"
      ]
     },
     "metadata": {},
     "output_type": "display_data"
    },
    {
     "name": "stdout",
     "output_type": "stream",
     "text": [
      "\n",
      "\n",
      "\n",
      "Source Image:\n",
      "(50, 120, 3)\n"
     ]
    },
    {
     "data": {
      "image/png": "[encoded data removed]",
      "text/plain": [
       "<IPython.core.display.Image object>"
      ]
     },
     "metadata": {},
     "output_type": "display_data"
    },
    {
     "name": "stdout",
     "output_type": "stream",
     "text": [
      "Recognized latex:\n",
      "t \\propto \\bar { t } ^ { ( 1 + \\lambda \\bar { p } _ { D \\, + } ) } \\; ,\n",
      "\n",
      "Compilation from recognized latex:\n"
     ]
    },
    {
     "data": {
      "text/latex": [
       "$$t \\propto \\bar { t } ^ { ( 1 + \\lambda \\bar { p } _ { D \\, + } ) } \\; ,$$"
      ],
      "text/plain": [
       "<IPython.core.display.Math object>"
      ]
     },
     "metadata": {},
     "output_type": "display_data"
    },
    {
     "name": "stdout",
     "output_type": "stream",
     "text": [
      "\n",
      "\n",
      "\n",
      "Source Image:\n",
      "(50, 240, 3)\n"
     ]
    },
    {
     "data": {
      "image/png": "[encoded data removed]",
      "text/plain": [
       "<IPython.core.display.Image object>"
      ]
     },
     "metadata": {},
     "output_type": "display_data"
    },
    {
     "name": "stdout",
     "output_type": "stream",
     "text": [
      "Recognized latex:\n",
      "R = 2 \\sqrt { \\frac { x } { ( n - 2 ) / r _ { + } - 2 m ^ { \\prime } ( r _ { + } ) / r _ { + } ^ { n - 2 } } } .\n",
      "\n",
      "Compilation from recognized latex:\n"
     ]
    },
    {
     "data": {
      "text/latex": [
       "$$R = 2 \\sqrt { \\frac { x } { ( n - 2 ) / r _ { + } - 2 m ^ { \\prime } ( r _ { + } ) / r _ { + } ^ { n - 2 } } } .$$"
      ],
      "text/plain": [
       "<IPython.core.display.Math object>"
      ]
     },
     "metadata": {},
     "output_type": "display_data"
    },
    {
     "name": "stdout",
     "output_type": "stream",
     "text": [
      "\n",
      "\n",
      "\n",
      "Source Image:\n",
      "(40, 160, 3)\n"
     ]
    },
    {
     "data": {
      "image/png": "[encoded data removed]",
      "text/plain": [
       "<IPython.core.display.Image object>"
      ]
     },
     "metadata": {},
     "output_type": "display_data"
    },
    {
     "name": "stdout",
     "output_type": "stream",
     "text": [
      "Recognized latex:\n",
      "\\mu = \\Big ( \\frac { N } { 4 } } } \\Big ) ^ { 1 / 3 } - { \\frac { 1 } { 2 } } + . . . \\ .\n",
      "\n",
      "Compilation from recognized latex:\n"
     ]
    },
    {
     "data": {
      "text/latex": [
       "$$\\mu = \\Big ( \\frac { N } { 4 } } } \\Big ) ^ { 1 / 3 } - { \\frac { 1 } { 2 } } + . . . \\ .$$"
      ],
      "text/plain": [
       "<IPython.core.display.Math object>"
      ]
     },
     "metadata": {},
     "output_type": "display_data"
    },
    {
     "name": "stdout",
     "output_type": "stream",
     "text": [
      "\n",
      "\n",
      "\n",
      "Source Image:\n",
      "(40, 160, 3)\n"
     ]
    },
    {
     "data": {
      "image/png": "[encoded data removed]",
      "text/plain": [
       "<IPython.core.display.Image object>"
      ]
     },
     "metadata": {},
     "output_type": "display_data"
    },
    {
     "name": "stdout",
     "output_type": "stream",
     "text": [
      "Recognized latex:\n",
      "f _ { i } = - \\alpha \\, H ^ { - 5 / 4 } \\, \\partial _ { i } H\n",
      "\n",
      "Compilation from recognized latex:\n"
     ]
    },
    {
     "data": {
      "text/latex": [
       "$$f _ { i } = - \\alpha \\, H ^ { - 5 / 4 } \\, \\partial _ { i } H$$"
      ],
      "text/plain": [
       "<IPython.core.display.Math object>"
      ]
     },
     "metadata": {},
     "output_type": "display_data"
    },
    {
     "name": "stdout",
     "output_type": "stream",
     "text": [
      "\n",
      "\n",
      "\n",
      "Source Image:\n",
      "(40, 280, 3)\n"
     ]
    },
    {
     "data": {
      "image/png": "[encoded data removed]",
      "text/plain": [
       "<IPython.core.display.Image object>"
      ]
     },
     "metadata": {},
     "output_type": "display_data"
    },
    {
     "name": "stdout",
     "output_type": "stream",
     "text": [
      "Recognized latex:\n",
      "d s ^ { 2 } = g _ { a b } d x ^ { a } d x ^ { b } = d r ^ { 2 } + a ^ { 2 } ( r ) \\gamma _ { \\mu \\nu } d x ^ { \\mu } d x ^ { \\nu } ,\n",
      "\n",
      "Compilation from recognized latex:\n"
     ]
    },
    {
     "data": {
      "text/latex": [
       "$$d s ^ { 2 } = g _ { a b } d x ^ { a } d x ^ { b } = d r ^ { 2 } + a ^ { 2 } ( r ) \\gamma _ { \\mu \\nu } d x ^ { \\mu } d x ^ { \\nu } ,$$"
      ],
      "text/plain": [
       "<IPython.core.display.Math object>"
      ]
     },
     "metadata": {},
     "output_type": "display_data"
    },
    {
     "name": "stdout",
     "output_type": "stream",
     "text": [
      "\n",
      "\n",
      "\n",
      "Source Image:\n",
      "(40, 320, 3)\n"
     ]
    },
    {
     "data": {
      "image/png": "[encoded data removed]",
      "text/plain": [
       "<IPython.core.display.Image object>"
      ]
     },
     "metadata": {},
     "output_type": "display_data"
    },
    {
     "name": "stdout",
     "output_type": "stream",
     "text": [
      "Recognized latex:\n",
      "f ( x , y ) \\; = \\; \\Phi ( x , y ) + \\Phi ( x , - y ) + \\Phi ( x , - y ) \\Phi ( x , y ) .\n",
      "\n",
      "Compilation from recognized latex:\n"
     ]
    },
    {
     "data": {
      "text/latex": [
       "$$f ( x , y ) \\; = \\; \\Phi ( x , y ) + \\Phi ( x , - y ) + \\Phi ( x , - y ) \\Phi ( x , y ) .$$"
      ],
      "text/plain": [
       "<IPython.core.display.Math object>"
      ]
     },
     "metadata": {},
     "output_type": "display_data"
    },
    {
     "name": "stdout",
     "output_type": "stream",
     "text": [
      "\n",
      "\n",
      "\n"
     ]
    }
   ],
   "source": [
    "for i in range(1,200, 10):\n",
    "    predict('data/images_test/%d.png'%i)\n",
    "    print('\\n\\n')"
   ]
  },
  {
   "cell_type": "markdown",
   "metadata": {},
   "source": [
    "# Examples from our dataset"
   ]
  },
  {
   "cell_type": "code",
   "execution_count": 15,
   "metadata": {},
   "outputs": [
    {
     "name": "stdout",
     "output_type": "stream",
     "text": [
      "Source Image:\n",
      "(58, 141, 3)\n"
     ]
    },
    {
     "data": {
      "image/png": "[encoded data removed]",
      "text/plain": [
       "<IPython.core.display.Image object>"
      ]
     },
     "metadata": {},
     "output_type": "display_data"
    },
    {
     "name": "stdout",
     "output_type": "stream",
     "text": [
      "Recognized latex:\n",
      "( 2 )\n",
      "\n",
      "Compilation from recognized latex:\n"
     ]
    },
    {
     "data": {
      "text/latex": [
       "$$( 2 )$$"
      ],
      "text/plain": [
       "<IPython.core.display.Math object>"
      ]
     },
     "metadata": {},
     "output_type": "display_data"
    },
    {
     "name": "stdout",
     "output_type": "stream",
     "text": [
      "\n",
      "\n",
      "\n",
      "Source Image:\n",
      "(58, 141, 3)\n"
     ]
    },
    {
     "data": {
      "image/png": "[encoded data removed]",
      "text/plain": [
       "<IPython.core.display.Image object>"
      ]
     },
     "metadata": {},
     "output_type": "display_data"
    },
    {
     "name": "stdout",
     "output_type": "stream",
     "text": [
      "Recognized latex:\n",
      "K _ { \\mathrm { o r } } = \\frac { K _ { d } } { { _ { \\mathrm { G } } } \\times 1 0 0\n",
      "\n",
      "Compilation from recognized latex:\n"
     ]
    },
    {
     "data": {
      "text/latex": [
       "$$K _ { \\mathrm { o r } } = \\frac { K _ { d } } { { _ { \\mathrm { G } } } \\times 1 0 0$$"
      ],
      "text/plain": [
       "<IPython.core.display.Math object>"
      ]
     },
     "metadata": {},
     "output_type": "display_data"
    },
    {
     "name": "stdout",
     "output_type": "stream",
     "text": [
      "\n",
      "\n",
      "\n",
      "Source Image:\n",
      "(58, 141, 3)\n"
     ]
    },
    {
     "data": {
      "image/png": "[encoded data removed]",
      "text/plain": [
       "<IPython.core.display.Image object>"
      ]
     },
     "metadata": {},
     "output_type": "display_data"
    },
    {
     "name": "stdout",
     "output_type": "stream",
     "text": [
      "Recognized latex:\n",
      "\\begin{array} { c } { O _ { d l s } = \\epsilon + b C _ { \\epsilon q } } \\\\ { Q _ { d l s } = \\epsilon + b C _ { \\epsilon q } } \\\\ \\end{array}\n",
      "\n",
      "Compilation from recognized latex:\n"
     ]
    },
    {
     "data": {
      "text/latex": [
       "$$\\begin{array} { c } { O _ { d l s } = \\epsilon + b C _ { \\epsilon q } } \\\\ { Q _ { d l s } = \\epsilon + b C _ { \\epsilon q } } \\\\ \\end{array}$$"
      ],
      "text/plain": [
       "<IPython.core.display.Math object>"
      ]
     },
     "metadata": {},
     "output_type": "display_data"
    },
    {
     "name": "stdout",
     "output_type": "stream",
     "text": [
      "\n",
      "\n",
      "\n",
      "Source Image:\n",
      "(58, 141, 3)\n"
     ]
    },
    {
     "data": {
      "image/png": "[encoded data removed]",
      "text/plain": [
       "<IPython.core.display.Image object>"
      ]
     },
     "metadata": {},
     "output_type": "display_data"
    },
    {
     "name": "stdout",
     "output_type": "stream",
     "text": [
      "Recognized latex:\n",
      "( 1 )\n",
      "\n",
      "Compilation from recognized latex:\n"
     ]
    },
    {
     "data": {
      "text/latex": [
       "$$( 1 )$$"
      ],
      "text/plain": [
       "<IPython.core.display.Math object>"
      ]
     },
     "metadata": {},
     "output_type": "display_data"
    },
    {
     "name": "stdout",
     "output_type": "stream",
     "text": [
      "\n",
      "\n",
      "\n",
      "Source Image:\n",
      "(58, 141, 3)\n"
     ]
    },
    {
     "data": {
      "image/png": "[encoded data removed]",
      "text/plain": [
       "<IPython.core.display.Image object>"
      ]
     },
     "metadata": {},
     "output_type": "display_data"
    },
    {
     "name": "stdout",
     "output_type": "stream",
     "text": [
      "Recognized latex:\n",
      "( 2 3 )\n",
      "\n",
      "Compilation from recognized latex:\n"
     ]
    },
    {
     "data": {
      "text/latex": [
       "$$( 2 3 )$$"
      ],
      "text/plain": [
       "<IPython.core.display.Math object>"
      ]
     },
     "metadata": {},
     "output_type": "display_data"
    },
    {
     "name": "stdout",
     "output_type": "stream",
     "text": [
      "\n",
      "\n",
      "\n",
      "Source Image:\n",
      "(47, 235, 3)\n"
     ]
    },
    {
     "data": {
      "image/png": "[encoded data removed]",
      "text/plain": [
       "<IPython.core.display.Image object>"
      ]
     },
     "metadata": {},
     "output_type": "display_data"
    },
    {
     "name": "stdout",
     "output_type": "stream",
     "text": [
      "Recognized latex:\n",
      "_UNK _ { } _ { S _ { \\circ } \\times \\mathrm { e x } e x } x } { - 7 ( - 0 \\times 1 0 ^ { - 8 } } 8 } } \\! \\! \\! \\! \\!\n",
      "\n",
      "Compilation from recognized latex:\n"
     ]
    },
    {
     "data": {
      "text/latex": [
       "$$_UNK _ { } _ { S _ { \\circ } \\times \\mathrm { e x } e x } x } { - 7 ( - 0 \\times 1 0 ^ { - 8 } } 8 } } \\! \\! \\! \\! \\!$$"
      ],
      "text/plain": [
       "<IPython.core.display.Math object>"
      ]
     },
     "metadata": {},
     "output_type": "display_data"
    },
    {
     "name": "stdout",
     "output_type": "stream",
     "text": [
      "\n",
      "\n",
      "\n",
      "Source Image:\n",
      "(47, 235, 3)\n"
     ]
    },
    {
     "data": {
      "image/png": "[encoded data removed]",
      "text/plain": [
       "<IPython.core.display.Image object>"
      ]
     },
     "metadata": {},
     "output_type": "display_data"
    },
    {
     "name": "stdout",
     "output_type": "stream",
     "text": [
      "Recognized latex:\n",
      "\\begin{array} { c c c { } & { S _ { f } = S _ { o } \\times \\mathrm { e x p } } ( \\frac { - 8 \\, 0 0 _ { { } } 1 0 ^ { - \\hat { { } } _ { l } } { | \\mathrm { { 2 } \\mathrm { O } _ { 2 } ] ^ { - \\hat { \\epsilon } } _ {\n",
      "\n",
      "Compilation from recognized latex:\n"
     ]
    },
    {
     "data": {
      "text/latex": [
       "$$\\begin{array} { c c c { } & { S _ { f } = S _ { o } \\times \\mathrm { e x p } } ( \\frac { - 8 \\, 0 0 _ { { } } 1 0 ^ { - \\hat { { } } _ { l } } { | \\mathrm { { 2 } \\mathrm { O } _ { 2 } ] ^ { - \\hat { \\epsilon } } _ {$$"
      ],
      "text/plain": [
       "<IPython.core.display.Math object>"
      ]
     },
     "metadata": {},
     "output_type": "display_data"
    },
    {
     "name": "stdout",
     "output_type": "stream",
     "text": [
      "\n",
      "\n",
      "\n",
      "Source Image:\n",
      "(58, 141, 3)\n"
     ]
    },
    {
     "data": {
      "image/png": "[encoded data removed]",
      "text/plain": [
       "<IPython.core.display.Image object>"
      ]
     },
     "metadata": {},
     "output_type": "display_data"
    },
    {
     "name": "stdout",
     "output_type": "stream",
     "text": [
      "Recognized latex:\n",
      "( 2 2 )\n",
      "\n",
      "Compilation from recognized latex:\n"
     ]
    },
    {
     "data": {
      "text/latex": [
       "$$( 2 2 )$$"
      ],
      "text/plain": [
       "<IPython.core.display.Math object>"
      ]
     },
     "metadata": {},
     "output_type": "display_data"
    },
    {
     "name": "stdout",
     "output_type": "stream",
     "text": [
      "\n",
      "\n",
      "\n",
      "Source Image:\n",
      "(58, 141, 3)\n"
     ]
    },
    {
     "data": {
      "image/png": "[encoded data removed]",
      "text/plain": [
       "<IPython.core.display.Image object>"
      ]
     },
     "metadata": {},
     "output_type": "display_data"
    },
    {
     "name": "stdout",
     "output_type": "stream",
     "text": [
      "Recognized latex:\n",
      "( 2 9 )\n",
      "\n",
      "Compilation from recognized latex:\n"
     ]
    },
    {
     "data": {
      "text/latex": [
       "$$( 2 9 )$$"
      ],
      "text/plain": [
       "<IPython.core.display.Math object>"
      ]
     },
     "metadata": {},
     "output_type": "display_data"
    },
    {
     "name": "stdout",
     "output_type": "stream",
     "text": [
      "\n",
      "\n",
      "\n",
      "Source Image:\n",
      "(47, 188, 3)\n"
     ]
    },
    {
     "data": {
      "image/png": "[encoded data removed]",
      "text/plain": [
       "<IPython.core.display.Image object>"
      ]
     },
     "metadata": {},
     "output_type": "display_data"
    },
    {
     "name": "stdout",
     "output_type": "stream",
     "text": [
      "Recognized latex:\n",
      "V _ { j , { \\cal O } _ { 2 } } = - \\frac { 1 0 6 } { 1 3 8 } V _ { j , \\mathrm { D l C } } B _ { j , C }\n",
      "\n",
      "Compilation from recognized latex:\n"
     ]
    },
    {
     "data": {
      "text/latex": [
       "$$V _ { j , { \\cal O } _ { 2 } } = - \\frac { 1 0 6 } { 1 3 8 } V _ { j , \\mathrm { D l C } } B _ { j , C }$$"
      ],
      "text/plain": [
       "<IPython.core.display.Math object>"
      ]
     },
     "metadata": {},
     "output_type": "display_data"
    },
    {
     "name": "stdout",
     "output_type": "stream",
     "text": [
      "\n",
      "\n",
      "\n",
      "Source Image:\n",
      "(58, 141, 3)\n"
     ]
    },
    {
     "data": {
      "image/png": "[encoded data removed]",
      "text/plain": [
       "<IPython.core.display.Image object>"
      ]
     },
     "metadata": {},
     "output_type": "display_data"
    },
    {
     "name": "stdout",
     "output_type": "stream",
     "text": [
      "Recognized latex:\n",
      "( 2 { )\n",
      "\n",
      "Compilation from recognized latex:\n"
     ]
    },
    {
     "data": {
      "text/latex": [
       "$$( 2 { )$$"
      ],
      "text/plain": [
       "<IPython.core.display.Math object>"
      ]
     },
     "metadata": {},
     "output_type": "display_data"
    },
    {
     "name": "stdout",
     "output_type": "stream",
     "text": [
      "\n",
      "\n",
      "\n",
      "Source Image:\n",
      "(47, 188, 3)\n"
     ]
    },
    {
     "data": {
      "image/png": "[encoded data removed]",
      "text/plain": [
       "<IPython.core.display.Image object>"
      ]
     },
     "metadata": {},
     "output_type": "display_data"
    },
    {
     "name": "stdout",
     "output_type": "stream",
     "text": [
      "Recognized latex:\n",
      "V _ { j , A l k } = - 1 6 V _ { j , P O _ { 4 } } \\cdot B _ { j , C }\n",
      "\n",
      "Compilation from recognized latex:\n"
     ]
    },
    {
     "data": {
      "text/latex": [
       "$$V _ { j , A l k } = - 1 6 V _ { j , P O _ { 4 } } \\cdot B _ { j , C }$$"
      ],
      "text/plain": [
       "<IPython.core.display.Math object>"
      ]
     },
     "metadata": {},
     "output_type": "display_data"
    },
    {
     "name": "stdout",
     "output_type": "stream",
     "text": [
      "\n",
      "\n",
      "\n",
      "Source Image:\n",
      "(70, 423, 3)\n"
     ]
    },
    {
     "data": {
      "image/png": "[encoded data removed]",
      "text/plain": [
       "<IPython.core.display.Image object>"
      ]
     },
     "metadata": {},
     "output_type": "display_data"
    },
    {
     "name": "stdout",
     "output_type": "stream",
     "text": [
      "Recognized latex:\n",
      "\\frac { \\partial R _ { i _ { r } } } { \\partial t } = \\sum _ { j = 1 } ^ { J } \\left( \\stackrel { - V _ { j , i i { i } i j } . B _ { j } , } } } { _ { j = 1 } } \\left( } } - V _ { j , i j , i i \\bf . } _ { j , C } ^ { ~ } j , i { { c } } \\cdot B _ { j , C } \\right) } { _ { { i 1 } } r _ { j \\left( \\frac { - V _ { j , i } . . B _ { j , L } \\mathrm { \\mathrm { \\mathrm { } } \\right)\n",
      "\n",
      "Compilation from recognized latex:\n"
     ]
    },
    {
     "data": {
      "text/latex": [
       "$$\\frac { \\partial R _ { i _ { r } } } { \\partial t } = \\sum _ { j = 1 } ^ { J } \\left( \\stackrel { - V _ { j , i i { i } i j } . B _ { j } , } } } { _ { j = 1 } } \\left( } } - V _ { j , i j , i i \\bf . } _ { j , C } ^ { ~ } j , i { { c } } \\cdot B _ { j , C } \\right) } { _ { { i 1 } } r _ { j \\left( \\frac { - V _ { j , i } . . B _ { j , L } \\mathrm { \\mathrm { \\mathrm { } } \\right)$$"
      ],
      "text/plain": [
       "<IPython.core.display.Math object>"
      ]
     },
     "metadata": {},
     "output_type": "display_data"
    },
    {
     "name": "stdout",
     "output_type": "stream",
     "text": [
      "\n",
      "\n",
      "\n",
      "Source Image:\n",
      "(58, 141, 3)\n"
     ]
    },
    {
     "data": {
      "image/png": "[encoded data removed]",
      "text/plain": [
       "<IPython.core.display.Image object>"
      ]
     },
     "metadata": {},
     "output_type": "display_data"
    },
    {
     "name": "stdout",
     "output_type": "stream",
     "text": [
      "Recognized latex:\n",
      "( 2 8 )\n",
      "\n",
      "Compilation from recognized latex:\n"
     ]
    },
    {
     "data": {
      "text/latex": [
       "$$( 2 8 )$$"
      ],
      "text/plain": [
       "<IPython.core.display.Math object>"
      ]
     },
     "metadata": {},
     "output_type": "display_data"
    },
    {
     "name": "stdout",
     "output_type": "stream",
     "text": [
      "\n",
      "\n",
      "\n",
      "Source Image:\n",
      "(47, 188, 3)\n"
     ]
    },
    {
     "data": {
      "image/png": "[encoded data removed]",
      "text/plain": [
       "<IPython.core.display.Image object>"
      ]
     },
     "metadata": {},
     "output_type": "display_data"
    },
    {
     "name": "stdout",
     "output_type": "stream",
     "text": [
      "Recognized latex:\n",
      "F _ { \\mathrm { p r c } } ( \\epsilon ) = F _ { \\mathrm { r o c } } ( \\epsilon _ { e { e } ) \\! \\! ) \\! \\! ( \\frac { z } { { _ { \\mathrm { t e g } } } \\Big ) ^ { - b }\n",
      "\n",
      "Compilation from recognized latex:\n"
     ]
    },
    {
     "data": {
      "text/latex": [
       "$$F _ { \\mathrm { p r c } } ( \\epsilon ) = F _ { \\mathrm { r o c } } ( \\epsilon _ { e { e } ) \\! \\! ) \\! \\! ( \\frac { z } { { _ { \\mathrm { t e g } } } \\Big ) ^ { - b }$$"
      ],
      "text/plain": [
       "<IPython.core.display.Math object>"
      ]
     },
     "metadata": {},
     "output_type": "display_data"
    },
    {
     "name": "stdout",
     "output_type": "stream",
     "text": [
      "\n",
      "\n",
      "\n",
      "Source Image:\n",
      "(58, 470, 3)\n"
     ]
    },
    {
     "data": {
      "image/png": "[encoded data removed]",
      "text/plain": [
       "<IPython.core.display.Image object>"
      ]
     },
     "metadata": {},
     "output_type": "display_data"
    },
    {
     "name": "stdout",
     "output_type": "stream",
     "text": [
      "Recognized latex:\n",
      "F _ { \\small p o c } ( \\epsilon ) = f . F _ { r o c } ( \\varepsilon _ { e g ) } \\! \\cdot \\mathrm { e x p } \\Big ( - \\frac { k _ { 1 } } { w _ { 1 } } ( \\varepsilon _ { - - z _ { a { a } ) \\Big ) + ( 1 - f ) \\cdot ) \\cdot { \\mathrm { r e c } } ( } ( s e g } ) . ) { e x p } p } - \\frac { k _ { 2 } } { v _ { 2 } } ( z - \\varepsilon _ { \\mathrm { a } } )\n",
      "\n",
      "Compilation from recognized latex:\n"
     ]
    },
    {
     "data": {
      "text/latex": [
       "$$F _ { \\small p o c } ( \\epsilon ) = f . F _ { r o c } ( \\varepsilon _ { e g ) } \\! \\cdot \\mathrm { e x p } \\Big ( - \\frac { k _ { 1 } } { w _ { 1 } } ( \\varepsilon _ { - - z _ { a { a } ) \\Big ) + ( 1 - f ) \\cdot ) \\cdot { \\mathrm { r e c } } ( } ( s e g } ) . ) { e x p } p } - \\frac { k _ { 2 } } { v _ { 2 } } ( z - \\varepsilon _ { \\mathrm { a } } )$$"
      ],
      "text/plain": [
       "<IPython.core.display.Math object>"
      ]
     },
     "metadata": {},
     "output_type": "display_data"
    },
    {
     "name": "stdout",
     "output_type": "stream",
     "text": [
      "\n",
      "\n",
      "\n",
      "Source Image:\n",
      "(188, 470, 3)\n"
     ]
    },
    {
     "data": {
      "image/png": "[encoded data removed]",
      "text/plain": [
       "<IPython.core.display.Image object>"
      ]
     },
     "metadata": {},
     "output_type": "display_data"
    },
    {
     "name": "stdout",
     "output_type": "stream",
     "text": [
      "Recognized latex:\n",
      "\\Bigg |\n",
      "\n",
      "Compilation from recognized latex:\n"
     ]
    },
    {
     "data": {
      "text/latex": [
       "$$\\Bigg |$$"
      ],
      "text/plain": [
       "<IPython.core.display.Math object>"
      ]
     },
     "metadata": {},
     "output_type": "display_data"
    },
    {
     "name": "stdout",
     "output_type": "stream",
     "text": [
      "\n",
      "\n",
      "\n",
      "Source Image:\n",
      "(47, 235, 3)\n"
     ]
    },
    {
     "data": {
      "image/png": "[encoded data removed]",
      "text/plain": [
       "<IPython.core.display.Image object>"
      ]
     },
     "metadata": {},
     "output_type": "display_data"
    },
    {
     "name": "stdout",
     "output_type": "stream",
     "text": [
      "Recognized latex:\n",
      "{ } _ { f c } ( { f = = _ { \\mathrm { { F F c } } ( { { } _ { { q } ) } ) ) \\left( { { { { a + ( ( - - { { { { { { { \\bf { e } _ { { } ) / / } \\right) ^ { { } ^ { { { } ^ { {\n",
      "\n",
      "Compilation from recognized latex:\n"
     ]
    },
    {
     "data": {
      "text/latex": [
       "$${ } _ { f c } ( { f = = _ { \\mathrm { { F F c } } ( { { } _ { { q } ) } ) ) \\left( { { { { a + ( ( - - { { { { { { { \\bf { e } _ { { } ) / / } \\right) ^ { { } ^ { { { } ^ { {$$"
      ],
      "text/plain": [
       "<IPython.core.display.Math object>"
      ]
     },
     "metadata": {},
     "output_type": "display_data"
    },
    {
     "name": "stdout",
     "output_type": "stream",
     "text": [
      "\n",
      "\n",
      "\n",
      "Source Image:\n",
      "(47, 188, 3)\n"
     ]
    },
    {
     "data": {
      "image/png": "[encoded data removed]",
      "text/plain": [
       "<IPython.core.display.Image object>"
      ]
     },
     "metadata": {},
     "output_type": "display_data"
    },
    {
     "name": "stdout",
     "output_type": "stream",
     "text": [
      "Recognized latex:\n",
      "F _ { \\small { I { I o C } ( { \\varepsilon } ) } { \\frac { c _ { \\mathrm { } } { 0 . 0 2 3 8 . { \\cdot } { \\cdot } \\, 2 1 2 } }\n",
      "\n",
      "Compilation from recognized latex:\n"
     ]
    },
    {
     "data": {
      "text/latex": [
       "$$F _ { \\small { I { I o C } ( { \\varepsilon } ) } { \\frac { c _ { \\mathrm { } } { 0 . 0 2 3 8 . { \\cdot } { \\cdot } \\, 2 1 2 } }$$"
      ],
      "text/plain": [
       "<IPython.core.display.Math object>"
      ]
     },
     "metadata": {},
     "output_type": "display_data"
    },
    {
     "name": "stdout",
     "output_type": "stream",
     "text": [
      "\n",
      "\n",
      "\n",
      "Source Image:\n",
      "(47, 376, 3)\n"
     ]
    },
    {
     "data": {
      "image/png": "[encoded data removed]",
      "text/plain": [
       "<IPython.core.display.Image object>"
      ]
     },
     "metadata": {},
     "output_type": "display_data"
    },
    {
     "name": "stdout",
     "output_type": "stream",
     "text": [
      "Recognized latex:\n",
      "F _ { ( i , j ) , ( t ) } = b i o g \\hspace { f m f } o r c e . _ { c } \\star { _ { ( i , j ) } + S _ { \\mathrm { { { { } } i o g c m _ { c\n",
      "\n",
      "Compilation from recognized latex:\n"
     ]
    },
    {
     "data": {
      "text/latex": [
       "$$F _ { ( i , j ) , ( t ) } = b i o g \\hspace { f m f } o r c e . _ { c } \\star { _ { ( i , j ) } + S _ { \\mathrm { { { { } } i o g c m _ { c$$"
      ],
      "text/plain": [
       "<IPython.core.display.Math object>"
      ]
     },
     "metadata": {},
     "output_type": "display_data"
    },
    {
     "name": "stdout",
     "output_type": "stream",
     "text": [
      "\n",
      "\n",
      "\n",
      "Source Image:\n",
      "(47, 188, 3)\n"
     ]
    },
    {
     "data": {
      "image/png": "[encoded data removed]",
      "text/plain": [
       "<IPython.core.display.Image object>"
      ]
     },
     "metadata": {},
     "output_type": "display_data"
    },
    {
     "name": "stdout",
     "output_type": "stream",
     "text": [
      "Recognized latex:\n",
      "\\rho { { } { } _ { 2 } ( } ( { \\l } ) = { \\overline { { z { } { \\overline { { \\gamma } } } { \\cal { / } } } { { - { 3 } } } { \\cdot } { } }\n",
      "\n",
      "Compilation from recognized latex:\n"
     ]
    },
    {
     "data": {
      "text/latex": [
       "$$\\rho { { } { } _ { 2 } ( } ( { \\l } ) = { \\overline { { z { } { \\overline { { \\gamma } } } { \\cal { / } } } { { - { 3 } } } { \\cdot } { } }$$"
      ],
      "text/plain": [
       "<IPython.core.display.Math object>"
      ]
     },
     "metadata": {},
     "output_type": "display_data"
    },
    {
     "name": "stdout",
     "output_type": "stream",
     "text": [
      "\n",
      "\n",
      "\n",
      "Source Image:\n",
      "(58, 141, 3)\n"
     ]
    },
    {
     "data": {
      "image/png": "[encoded data removed]",
      "text/plain": [
       "<IPython.core.display.Image object>"
      ]
     },
     "metadata": {},
     "output_type": "display_data"
    },
    {
     "name": "stdout",
     "output_type": "stream",
     "text": [
      "Recognized latex:\n",
      "( 8 )\n",
      "\n",
      "Compilation from recognized latex:\n"
     ]
    },
    {
     "data": {
      "text/latex": [
       "$$( 8 )$$"
      ],
      "text/plain": [
       "<IPython.core.display.Math object>"
      ]
     },
     "metadata": {},
     "output_type": "display_data"
    },
    {
     "name": "stdout",
     "output_type": "stream",
     "text": [
      "\n",
      "\n",
      "\n",
      "Source Image:\n",
      "(58, 141, 3)\n"
     ]
    },
    {
     "data": {
      "image/png": "[encoded data removed]",
      "text/plain": [
       "<IPython.core.display.Image object>"
      ]
     },
     "metadata": {},
     "output_type": "display_data"
    },
    {
     "name": "stdout",
     "output_type": "stream",
     "text": [
      "Recognized latex:\n",
      "( \\mathrm { { 9 b ) }\n",
      "\n",
      "Compilation from recognized latex:\n"
     ]
    },
    {
     "data": {
      "text/latex": [
       "$$( \\mathrm { { 9 b ) }$$"
      ],
      "text/plain": [
       "<IPython.core.display.Math object>"
      ]
     },
     "metadata": {},
     "output_type": "display_data"
    },
    {
     "name": "stdout",
     "output_type": "stream",
     "text": [
      "\n",
      "\n",
      "\n",
      "Source Image:\n",
      "(58, 141, 3)\n"
     ]
    },
    {
     "data": {
      "image/png": "[encoded data removed]",
      "text/plain": [
       "<IPython.core.display.Image object>"
      ]
     },
     "metadata": {},
     "output_type": "display_data"
    },
    {
     "name": "stdout",
     "output_type": "stream",
     "text": [
      "Recognized latex:\n",
      "( 1 0 )\n",
      "\n",
      "Compilation from recognized latex:\n"
     ]
    },
    {
     "data": {
      "text/latex": [
       "$$( 1 0 )$$"
      ],
      "text/plain": [
       "<IPython.core.display.Math object>"
      ]
     },
     "metadata": {},
     "output_type": "display_data"
    },
    {
     "name": "stdout",
     "output_type": "stream",
     "text": [
      "\n",
      "\n",
      "\n",
      "Source Image:\n",
      "(58, 141, 3)\n"
     ]
    },
    {
     "data": {
      "image/png": "[encoded data removed]",
      "text/plain": [
       "<IPython.core.display.Image object>"
      ]
     },
     "metadata": {},
     "output_type": "display_data"
    },
    {
     "name": "stdout",
     "output_type": "stream",
     "text": [
      "Recognized latex:\n",
      "( 1 1 )\n",
      "\n",
      "Compilation from recognized latex:\n"
     ]
    },
    {
     "data": {
      "text/latex": [
       "$$( 1 1 )$$"
      ],
      "text/plain": [
       "<IPython.core.display.Math object>"
      ]
     },
     "metadata": {},
     "output_type": "display_data"
    },
    {
     "name": "stdout",
     "output_type": "stream",
     "text": [
      "\n",
      "\n",
      "\n",
      "Source Image:\n",
      "(58, 141, 3)\n"
     ]
    },
    {
     "data": {
      "image/png": "[encoded data removed]",
      "text/plain": [
       "<IPython.core.display.Image object>"
      ]
     },
     "metadata": {},
     "output_type": "display_data"
    },
    {
     "name": "stdout",
     "output_type": "stream",
     "text": [
      "Recognized latex:\n",
      "{ \\sf c } { ( & { { \\prime }\n",
      "\n",
      "Compilation from recognized latex:\n"
     ]
    },
    {
     "data": {
      "text/latex": [
       "$${ \\sf c } { ( & { { \\prime }$$"
      ],
      "text/plain": [
       "<IPython.core.display.Math object>"
      ]
     },
     "metadata": {},
     "output_type": "display_data"
    },
    {
     "name": "stdout",
     "output_type": "stream",
     "text": [
      "\n",
      "\n",
      "\n",
      "Source Image:\n",
      "(58, 141, 3)\n"
     ]
    },
    {
     "data": {
      "image/png": "[encoded data removed]",
      "text/plain": [
       "<IPython.core.display.Image object>"
      ]
     },
     "metadata": {},
     "output_type": "display_data"
    },
    {
     "name": "stdout",
     "output_type": "stream",
     "text": [
      "Recognized latex:\n",
      "\\Omega = \\frac { { { ( C _ { 3 } { { + ] [ \\mathrm { G O } _ { \\bar { S } } ^ { 2 - } ] } { K _ { S P } }\n",
      "\n",
      "Compilation from recognized latex:\n"
     ]
    },
    {
     "data": {
      "text/latex": [
       "$$\\Omega = \\frac { { { ( C _ { 3 } { { + ] [ \\mathrm { G O } _ { \\bar { S } } ^ { 2 - } ] } { K _ { S P } }$$"
      ],
      "text/plain": [
       "<IPython.core.display.Math object>"
      ]
     },
     "metadata": {},
     "output_type": "display_data"
    },
    {
     "name": "stdout",
     "output_type": "stream",
     "text": [
      "\n",
      "\n",
      "\n",
      "Source Image:\n",
      "(58, 235, 3)\n"
     ]
    },
    {
     "data": {
      "image/png": "[encoded data removed]",
      "text/plain": [
       "<IPython.core.display.Image object>"
      ]
     },
     "metadata": {},
     "output_type": "display_data"
    },
    {
     "name": "stdout",
     "output_type": "stream",
     "text": [
      "Recognized latex:\n",
      "P _ { \\leq = l _ { c } } ^ { \\mathrm { C . f . 2 { } } = } = { } _ { { 0 } ^ { \\mathrm { C _ { 0 } } } \\mathrm { c _ { 1 } } \\mathrm { c } _ { 1 } \\mathrm { P P } { 1 } \\mathrm { P C } l _ { c } } ^ { { { { D } ^ { } { D C \\; } } \\;\n",
      "\n",
      "Compilation from recognized latex:\n"
     ]
    },
    {
     "data": {
      "text/latex": [
       "$$P _ { \\leq = l _ { c } } ^ { \\mathrm { C . f . 2 { } } = } = { } _ { { 0 } ^ { \\mathrm { C _ { 0 } } } \\mathrm { c _ { 1 } } \\mathrm { c } _ { 1 } \\mathrm { P P } { 1 } \\mathrm { P C } l _ { c } } ^ { { { { D } ^ { } { D C \\; } } \\;$$"
      ],
      "text/plain": [
       "<IPython.core.display.Math object>"
      ]
     },
     "metadata": {},
     "output_type": "display_data"
    },
    {
     "name": "stdout",
     "output_type": "stream",
     "text": [
      "\n",
      "\n",
      "\n",
      "Source Image:\n",
      "(58, 141, 3)\n"
     ]
    },
    {
     "data": {
      "image/png": "[encoded data removed]",
      "text/plain": [
       "<IPython.core.display.Image object>"
      ]
     },
     "metadata": {},
     "output_type": "display_data"
    },
    {
     "name": "stdout",
     "output_type": "stream",
     "text": [
      "Recognized latex:\n",
      "( 9 _ { 3 } )\n",
      "\n",
      "Compilation from recognized latex:\n"
     ]
    },
    {
     "data": {
      "text/latex": [
       "$$( 9 _ { 3 } )$$"
      ],
      "text/plain": [
       "<IPython.core.display.Math object>"
      ]
     },
     "metadata": {},
     "output_type": "display_data"
    },
    {
     "name": "stdout",
     "output_type": "stream",
     "text": [
      "\n",
      "\n",
      "\n",
      "Source Image:\n",
      "(70, 423, 3)\n"
     ]
    },
    {
     "data": {
      "image/png": "[encoded data removed]",
      "text/plain": [
       "<IPython.core.display.Image object>"
      ]
     },
     "metadata": {},
     "output_type": "display_data"
    },
    {
     "name": "stdout",
     "output_type": "stream",
     "text": [
      "Recognized latex:\n",
      "\\begin{array} { c c c c { { { l y } ^ { - } } & { } & { \\cdot { l _ { { } } ^ { \\Omega { } & { } & { } } { } & { } & { } } { } } & { } & { } & { } & { } _ { } _ { l _ { F _ { F _ { l _ { l _ { ^ { \\epsilon } ^ { C < \\Omega _ { i } } } & { ( \\bigl ( 1 - r ^ { \\Omega { C } , C ) + { { 2 } } \\right) + r ^ { { L _ { { f f C O O } } } \\cdot \\mathrm { e x p } \\left( \\left( {\n",
      "\n",
      "Compilation from recognized latex:\n"
     ]
    },
    {
     "data": {
      "text/latex": [
       "$$\\begin{array} { c c c c { { { l y } ^ { - } } & { } & { \\cdot { l _ { { } } ^ { \\Omega { } & { } & { } } { } & { } & { } } { } } & { } & { } & { } & { } _ { } _ { l _ { F _ { F _ { l _ { l _ { ^ { \\epsilon } ^ { C < \\Omega _ { i } } } & { ( \\bigl ( 1 - r ^ { \\Omega { C } , C ) + { { 2 } } \\right) + r ^ { { L _ { { f f C O O } } } \\cdot \\mathrm { e x p } \\left( \\left( {$$"
      ],
      "text/plain": [
       "<IPython.core.display.Math object>"
      ]
     },
     "metadata": {},
     "output_type": "display_data"
    },
    {
     "name": "stdout",
     "output_type": "stream",
     "text": [
      "\n",
      "\n",
      "\n",
      "Source Image:\n",
      "(58, 282, 3)\n"
     ]
    },
    {
     "data": {
      "image/png": "[encoded data removed]",
      "text/plain": [
       "<IPython.core.display.Image object>"
      ]
     },
     "metadata": {},
     "output_type": "display_data"
    },
    {
     "name": "stdout",
     "output_type": "stream",
     "text": [
      "Recognized latex:\n",
      "\\mathrm { l n } ( P ( { \\bf X } | { \\bf { \\bf 0 } } ) ) = = { { { } { \\pm } } { \\frac { 1 } { { { } } } } } } _ { l } } { \\frac { \\left( { { { { } } _ { } _ { - { } - { i } ^ { \\prime } } \\right) } { 2 } } { { } { { } ^ { { { { { { { } } } } } }\n",
      "\n",
      "Compilation from recognized latex:\n"
     ]
    },
    {
     "data": {
      "text/latex": [
       "$$\\mathrm { l n } ( P ( { \\bf X } | { \\bf { \\bf 0 } } ) ) = = { { { } { \\pm } } { \\frac { 1 } { { { } } } } } } _ { l } } { \\frac { \\left( { { { { } } _ { } _ { - { } - { i } ^ { \\prime } } \\right) } { 2 } } { { } { { } ^ { { { { { { { } } } } } }$$"
      ],
      "text/plain": [
       "<IPython.core.display.Math object>"
      ]
     },
     "metadata": {},
     "output_type": "display_data"
    },
    {
     "name": "stdout",
     "output_type": "stream",
     "text": [
      "\n",
      "\n",
      "\n",
      "Source Image:\n",
      "(58, 282, 3)\n"
     ]
    },
    {
     "data": {
      "image/png": "[encoded data removed]",
      "text/plain": [
       "<IPython.core.display.Image object>"
      ]
     },
     "metadata": {},
     "output_type": "display_data"
    },
    {
     "name": "stdout",
     "output_type": "stream",
     "text": [
      "Recognized latex:\n",
      "\\Pi { I n } ( P \\bigl ( { \\bf { \\bf } } ) \\bigr ) = { \\cal C } } { { 1 } { { { 1 } { 2 } \\, \\sum _ { j } \\frac { \\left( P _ { i } - p _ { j } ^ { \\prime } \\right) ^ { 2 } } { \\mathrm { ~ ~ } _ { j } ^ { ' } } .\n",
      "\n",
      "Compilation from recognized latex:\n"
     ]
    },
    {
     "data": {
      "text/latex": [
       "$$\\Pi { I n } ( P \\bigl ( { \\bf { \\bf } } ) \\bigr ) = { \\cal C } } { { 1 } { { { 1 } { 2 } \\, \\sum _ { j } \\frac { \\left( P _ { i } - p _ { j } ^ { \\prime } \\right) ^ { 2 } } { \\mathrm { ~ ~ } _ { j } ^ { ' } } .$$"
      ],
      "text/plain": [
       "<IPython.core.display.Math object>"
      ]
     },
     "metadata": {},
     "output_type": "display_data"
    },
    {
     "name": "stdout",
     "output_type": "stream",
     "text": [
      "\n",
      "\n",
      "\n",
      "Source Image:\n",
      "(58, 329, 3)\n"
     ]
    },
    {
     "data": {
      "image/png": "[encoded data removed]",
      "text/plain": [
       "<IPython.core.display.Image object>"
      ]
     },
     "metadata": {},
     "output_type": "display_data"
    },
    {
     "name": "stdout",
     "output_type": "stream",
     "text": [
      "Recognized latex:\n",
      "P ( { \\bf X } \\big { \\bf \\bf { } } = = = { \\prod \\atop { \\prod } \\sqrt { { { \\sqrt { \\sqrt { { { 2 \\pi } } } } { \\bf } } } } } { \\bf { { - { \\frac { \\frac { 1 } - \\cdot { 1 } - } - { { } } } { ' } } = { } } } \\! - { - { \\frac { } { { 2 } } } } \\, { \\bf _ { \\bf } ^ { - { \\frac { 1 } { { { i } } } { \\frac { l _ { i } , - j { { { { } } } { { { { ^ { j } } } { q } } }\n",
      "\n",
      "Compilation from recognized latex:\n"
     ]
    },
    {
     "data": {
      "text/latex": [
       "$$P ( { \\bf X } \\big { \\bf \\bf { } } = = = { \\prod \\atop { \\prod } \\sqrt { { { \\sqrt { \\sqrt { { { 2 \\pi } } } } { \\bf } } } } } { \\bf { { - { \\frac { \\frac { 1 } - \\cdot { 1 } - } - { { } } } { ' } } = { } } } \\! - { - { \\frac { } { { 2 } } } } \\, { \\bf _ { \\bf } ^ { - { \\frac { 1 } { { { i } } } { \\frac { l _ { i } , - j { { { { } } } { { { { ^ { j } } } { q } } }$$"
      ],
      "text/plain": [
       "<IPython.core.display.Math object>"
      ]
     },
     "metadata": {},
     "output_type": "display_data"
    },
    {
     "name": "stdout",
     "output_type": "stream",
     "text": [
      "\n",
      "\n",
      "\n",
      "Source Image:\n",
      "(58, 141, 3)\n"
     ]
    },
    {
     "data": {
      "image/png": "[encoded data removed]",
      "text/plain": [
       "<IPython.core.display.Image object>"
      ]
     },
     "metadata": {},
     "output_type": "display_data"
    },
    {
     "name": "stdout",
     "output_type": "stream",
     "text": [
      "Recognized latex:\n",
      "\\left( { { \\right)\n",
      "\n",
      "Compilation from recognized latex:\n"
     ]
    },
    {
     "data": {
      "text/latex": [
       "$$\\left( { { \\right)$$"
      ],
      "text/plain": [
       "<IPython.core.display.Math object>"
      ]
     },
     "metadata": {},
     "output_type": "display_data"
    },
    {
     "name": "stdout",
     "output_type": "stream",
     "text": [
      "\n",
      "\n",
      "\n",
      "Source Image:\n",
      "(58, 141, 3)\n"
     ]
    },
    {
     "data": {
      "image/png": "[encoded data removed]",
      "text/plain": [
       "<IPython.core.display.Image object>"
      ]
     },
     "metadata": {},
     "output_type": "display_data"
    },
    {
     "name": "stdout",
     "output_type": "stream",
     "text": [
      "Recognized latex:\n",
      "\\left( 4 \\right)\n",
      "\n",
      "Compilation from recognized latex:\n"
     ]
    },
    {
     "data": {
      "text/latex": [
       "$$\\left( 4 \\right)$$"
      ],
      "text/plain": [
       "<IPython.core.display.Math object>"
      ]
     },
     "metadata": {},
     "output_type": "display_data"
    },
    {
     "name": "stdout",
     "output_type": "stream",
     "text": [
      "\n",
      "\n",
      "\n",
      "Source Image:\n",
      "(58, 141, 3)\n"
     ]
    },
    {
     "data": {
      "image/png": "[encoded data removed]",
      "text/plain": [
       "<IPython.core.display.Image object>"
      ]
     },
     "metadata": {},
     "output_type": "display_data"
    },
    {
     "name": "stdout",
     "output_type": "stream",
     "text": [
      "Recognized latex:\n",
      "\\left( { \\cal 2 } \\right)\n",
      "\n",
      "Compilation from recognized latex:\n"
     ]
    },
    {
     "data": {
      "text/latex": [
       "$$\\left( { \\cal 2 } \\right)$$"
      ],
      "text/plain": [
       "<IPython.core.display.Math object>"
      ]
     },
     "metadata": {},
     "output_type": "display_data"
    },
    {
     "name": "stdout",
     "output_type": "stream",
     "text": [
      "\n",
      "\n",
      "\n",
      "Source Image:\n",
      "(58, 141, 3)\n"
     ]
    },
    {
     "data": {
      "image/png": "[encoded data removed]",
      "text/plain": [
       "<IPython.core.display.Image object>"
      ]
     },
     "metadata": {},
     "output_type": "display_data"
    },
    {
     "name": "stdout",
     "output_type": "stream",
     "text": [
      "Recognized latex:\n",
      "\\begin{array} { c } { \\mathrm { d } \\mathrm { a } { \\bf t } _ { \\bar { \\alpha } - \\hat { 1 } } \\, \\mathrm { \\boldmath ~ z ~ } ^ { \\, \\, \\, } \\! \\! \\! \\! \\! \\! } \\! \\! \\! } \\! . } \\\\ { } & { } \\\\ \\end{array}\n",
      "\n",
      "Compilation from recognized latex:\n"
     ]
    },
    {
     "data": {
      "text/latex": [
       "$$\\begin{array} { c } { \\mathrm { d } \\mathrm { a } { \\bf t } _ { \\bar { \\alpha } - \\hat { 1 } } \\, \\mathrm { \\boldmath ~ z ~ } ^ { \\, \\, \\, } \\! \\! \\! \\! \\! \\! } \\! \\! \\! } \\! . } \\\\ { } & { } \\\\ \\end{array}$$"
      ],
      "text/plain": [
       "<IPython.core.display.Math object>"
      ]
     },
     "metadata": {},
     "output_type": "display_data"
    },
    {
     "name": "stdout",
     "output_type": "stream",
     "text": [
      "\n",
      "\n",
      "\n",
      "Source Image:\n",
      "(58, 141, 3)\n"
     ]
    },
    {
     "data": {
      "image/png": "[encoded data removed]",
      "text/plain": [
       "<IPython.core.display.Image object>"
      ]
     },
     "metadata": {},
     "output_type": "display_data"
    },
    {
     "name": "stdout",
     "output_type": "stream",
     "text": [
      "Recognized latex:\n",
      "\\left( \\begin{matrix} { 1 } \\\\ { { \\mathcal S } } \\\\ \\end{matrix} \\right) \\end{matrix} \\right)\n",
      "\n",
      "Compilation from recognized latex:\n"
     ]
    },
    {
     "data": {
      "text/latex": [
       "$$\\left( \\begin{matrix} { 1 } \\\\ { { \\mathcal S } } \\\\ \\end{matrix} \\right) \\end{matrix} \\right)$$"
      ],
      "text/plain": [
       "<IPython.core.display.Math object>"
      ]
     },
     "metadata": {},
     "output_type": "display_data"
    },
    {
     "name": "stdout",
     "output_type": "stream",
     "text": [
      "\n",
      "\n",
      "\n",
      "Source Image:\n",
      "(47, 188, 3)\n"
     ]
    },
    {
     "data": {
      "image/png": "[encoded data removed]",
      "text/plain": [
       "<IPython.core.display.Image object>"
      ]
     },
     "metadata": {},
     "output_type": "display_data"
    },
    {
     "name": "stdout",
     "output_type": "stream",
     "text": [
      "Recognized latex:\n",
      "P ^ { 4 } \\, = \\, R \\bigl ( P ^ { \\hat { I } } \\, \\! \\, R ) ^ { - 1 } P ^ { I }\n",
      "\n",
      "Compilation from recognized latex:\n"
     ]
    },
    {
     "data": {
      "text/latex": [
       "$$P ^ { 4 } \\, = \\, R \\bigl ( P ^ { \\hat { I } } \\, \\! \\, R ) ^ { - 1 } P ^ { I }$$"
      ],
      "text/plain": [
       "<IPython.core.display.Math object>"
      ]
     },
     "metadata": {},
     "output_type": "display_data"
    },
    {
     "name": "stdout",
     "output_type": "stream",
     "text": [
      "\n",
      "\n",
      "\n",
      "Source Image:\n",
      "(47, 235, 3)\n"
     ]
    },
    {
     "data": {
      "image/png": "[encoded data removed]",
      "text/plain": [
       "<IPython.core.display.Image object>"
      ]
     },
     "metadata": {},
     "output_type": "display_data"
    },
    {
     "name": "stdout",
     "output_type": "stream",
     "text": [
      "Recognized latex:\n",
      "{ \\cal { O } } = c ^ { \\frac { { } { 2 } } P ^ { ^ { 1 } } { } ^ { 2 } ^ { 2 } { } { { { } + + \\, { C { \\, { } } } { } ^ { ^ { - 1 } { - 1 } { } ^ { 2 } { \\underline { { Q } } }\n",
      "\n",
      "Compilation from recognized latex:\n"
     ]
    },
    {
     "data": {
      "text/latex": [
       "$${ \\cal { O } } = c ^ { \\frac { { } { 2 } } P ^ { ^ { 1 } } { } ^ { 2 } ^ { 2 } { } { { { } + + \\, { C { \\, { } } } { } ^ { ^ { - 1 } { - 1 } { } ^ { 2 } { \\underline { { Q } } }$$"
      ],
      "text/plain": [
       "<IPython.core.display.Math object>"
      ]
     },
     "metadata": {},
     "output_type": "display_data"
    },
    {
     "name": "stdout",
     "output_type": "stream",
     "text": [
      "\n",
      "\n",
      "\n",
      "Source Image:\n",
      "(58, 141, 3)\n"
     ]
    },
    {
     "data": {
      "image/png": "[encoded data removed]",
      "text/plain": [
       "<IPython.core.display.Image object>"
      ]
     },
     "metadata": {},
     "output_type": "display_data"
    },
    {
     "name": "stdout",
     "output_type": "stream",
     "text": [
      "Recognized latex:\n",
      "\\left( \\begin{matrix} { 1 } \\\\ { \\Theta } \\\\ \\end{matrix} \\right)\n",
      "\n",
      "Compilation from recognized latex:\n"
     ]
    },
    {
     "data": {
      "text/latex": [
       "$$\\left( \\begin{matrix} { 1 } \\\\ { \\Theta } \\\\ \\end{matrix} \\right)$$"
      ],
      "text/plain": [
       "<IPython.core.display.Math object>"
      ]
     },
     "metadata": {},
     "output_type": "display_data"
    },
    {
     "name": "stdout",
     "output_type": "stream",
     "text": [
      "\n",
      "\n",
      "\n",
      "Source Image:\n",
      "(58, 141, 3)\n"
     ]
    },
    {
     "data": {
      "image/png": "[encoded data removed]",
      "text/plain": [
       "<IPython.core.display.Image object>"
      ]
     },
     "metadata": {},
     "output_type": "display_data"
    },
    {
     "name": "stdout",
     "output_type": "stream",
     "text": [
      "Recognized latex:\n",
      "\\left( \\begin{matrix} { 1 } & { \\mathcal { 2 } } \\\\ \\end{matrix} \\right)\n",
      "\n",
      "Compilation from recognized latex:\n"
     ]
    },
    {
     "data": {
      "text/latex": [
       "$$\\left( \\begin{matrix} { 1 } & { \\mathcal { 2 } } \\\\ \\end{matrix} \\right)$$"
      ],
      "text/plain": [
       "<IPython.core.display.Math object>"
      ]
     },
     "metadata": {},
     "output_type": "display_data"
    },
    {
     "name": "stdout",
     "output_type": "stream",
     "text": [
      "\n",
      "\n",
      "\n",
      "Source Image:\n",
      "(58, 282, 3)\n"
     ]
    },
    {
     "data": {
      "image/png": "[encoded data removed]",
      "text/plain": [
       "<IPython.core.display.Image object>"
      ]
     },
     "metadata": {},
     "output_type": "display_data"
    },
    {
     "name": "stdout",
     "output_type": "stream",
     "text": [
      "Recognized latex:\n",
      "P ^ { \\hat { I } } = \\frac { 1 } { M \\, - \\, 1 } \\, \\sum _ { \\mid = l } ^ { M } ( \\chi _ { i } ^ { I } - \\chi ^ { { { I } } { ) ( I } } \\bigr ) ( { I } - \\chi ^ { I } - \\chi ^ { \\check {\n",
      "\n",
      "Compilation from recognized latex:\n"
     ]
    },
    {
     "data": {
      "text/latex": [
       "$$P ^ { \\hat { I } } = \\frac { 1 } { M \\, - \\, 1 } \\, \\sum _ { \\mid = l } ^ { M } ( \\chi _ { i } ^ { I } - \\chi ^ { { { I } } { ) ( I } } \\bigr ) ( { I } - \\chi ^ { I } - \\chi ^ { \\check {$$"
      ],
      "text/plain": [
       "<IPython.core.display.Math object>"
      ]
     },
     "metadata": {},
     "output_type": "display_data"
    },
    {
     "name": "stdout",
     "output_type": "stream",
     "text": [
      "\n",
      "\n",
      "\n",
      "Source Image:\n",
      "(47, 188, 3)\n"
     ]
    },
    {
     "data": {
      "image/png": "[encoded data removed]",
      "text/plain": [
       "<IPython.core.display.Image object>"
      ]
     },
     "metadata": {},
     "output_type": "display_data"
    },
    {
     "name": "stdout",
     "output_type": "stream",
     "text": [
      "Recognized latex:\n",
      "\\mathrm { O V } \\Gamma _ { \\mathrm { g T } } = \\psi _ { \\mathrm { \\scriptsize { { } _ { \\mathrm { g } } } - \\psi _ { \\mathrm { m i n _ { g } } }\n",
      "\n",
      "Compilation from recognized latex:\n"
     ]
    },
    {
     "data": {
      "text/latex": [
       "$$\\mathrm { O V } \\Gamma _ { \\mathrm { g T } } = \\psi _ { \\mathrm { \\scriptsize { { } _ { \\mathrm { g } } } - \\psi _ { \\mathrm { m i n _ { g } } }$$"
      ],
      "text/plain": [
       "<IPython.core.display.Math object>"
      ]
     },
     "metadata": {},
     "output_type": "display_data"
    },
    {
     "name": "stdout",
     "output_type": "stream",
     "text": [
      "\n",
      "\n",
      "\n",
      "Source Image:\n",
      "(58, 141, 3)\n"
     ]
    },
    {
     "data": {
      "image/png": "[encoded data removed]",
      "text/plain": [
       "<IPython.core.display.Image object>"
      ]
     },
     "metadata": {},
     "output_type": "display_data"
    },
    {
     "name": "stdout",
     "output_type": "stream",
     "text": [
      "Recognized latex:\n",
      "( 5 )\n",
      "\n",
      "Compilation from recognized latex:\n"
     ]
    },
    {
     "data": {
      "text/latex": [
       "$$( 5 )$$"
      ],
      "text/plain": [
       "<IPython.core.display.Math object>"
      ]
     },
     "metadata": {},
     "output_type": "display_data"
    },
    {
     "name": "stdout",
     "output_type": "stream",
     "text": [
      "\n",
      "\n",
      "\n",
      "Source Image:\n",
      "(58, 141, 3)\n"
     ]
    },
    {
     "data": {
      "image/png": "[encoded data removed]",
      "text/plain": [
       "<IPython.core.display.Image object>"
      ]
     },
     "metadata": {},
     "output_type": "display_data"
    },
    {
     "name": "stdout",
     "output_type": "stream",
     "text": [
      "Recognized latex:\n",
      "\\mathrm { ~ ~ 2 6 - 2 7 9 , 2 0 0 . }\n",
      "\n",
      "Compilation from recognized latex:\n"
     ]
    },
    {
     "data": {
      "text/latex": [
       "$$\\mathrm { ~ ~ 2 6 - 2 7 9 , 2 0 0 . }$$"
      ],
      "text/plain": [
       "<IPython.core.display.Math object>"
      ]
     },
     "metadata": {},
     "output_type": "display_data"
    },
    {
     "name": "stdout",
     "output_type": "stream",
     "text": [
      "\n",
      "\n",
      "\n",
      "Source Image:\n",
      "(58, 141, 3)\n"
     ]
    },
    {
     "data": {
      "image/png": "[encoded data removed]",
      "text/plain": [
       "<IPython.core.display.Image object>"
      ]
     },
     "metadata": {},
     "output_type": "display_data"
    },
    {
     "name": "stdout",
     "output_type": "stream",
     "text": [
      "Recognized latex:\n",
      "\\frac { d p { \\mathrm { O } } { } { { = \\mathrm { k I I O C }\n",
      "\n",
      "Compilation from recognized latex:\n"
     ]
    },
    {
     "data": {
      "text/latex": [
       "$$\\frac { d p { \\mathrm { O } } { } { { = \\mathrm { k I I O C }$$"
      ],
      "text/plain": [
       "<IPython.core.display.Math object>"
      ]
     },
     "metadata": {},
     "output_type": "display_data"
    },
    {
     "name": "stdout",
     "output_type": "stream",
     "text": [
      "\n",
      "\n",
      "\n",
      "Source Image:\n",
      "(58, 282, 3)\n"
     ]
    },
    {
     "data": {
      "image/png": "[encoded data removed]",
      "text/plain": [
       "<IPython.core.display.Image object>"
      ]
     },
     "metadata": {},
     "output_type": "display_data"
    },
    {
     "name": "stdout",
     "output_type": "stream",
     "text": [
      "Recognized latex:\n",
      "\\begin{array} { c c { { { { { d { d \\varepsilon } d } } } _ { w { \\\\ { i f } } ( \\epsilon _ { 0 p } ) \\cdot \\mathrm { e x } } ( - \\frac { { d _ { g } ( 1 - { \\bf ( 1 - \\mathbf { ^ { } { } { } } { z - ( z - { _ { 0 { 0 ) \\Big ) } \\\\ { F _ { p C } ( z ) = F _ { \\mathrm { f f C } ( ( \\epsilon _ { 0 { p } } ) } . . \\mathrm { e\n",
      "\n",
      "Compilation from recognized latex:\n"
     ]
    },
    {
     "data": {
      "text/latex": [
       "$$\\begin{array} { c c { { { { { d { d \\varepsilon } d } } } _ { w { \\\\ { i f } } ( \\epsilon _ { 0 p } ) \\cdot \\mathrm { e x } } ( - \\frac { { d _ { g } ( 1 - { \\bf ( 1 - \\mathbf { ^ { } { } { } } { z - ( z - { _ { 0 { 0 ) \\Big ) } \\\\ { F _ { p C } ( z ) = F _ { \\mathrm { f f C } ( ( \\epsilon _ { 0 { p } } ) } . . \\mathrm { e$$"
      ],
      "text/plain": [
       "<IPython.core.display.Math object>"
      ]
     },
     "metadata": {},
     "output_type": "display_data"
    },
    {
     "name": "stdout",
     "output_type": "stream",
     "text": [
      "\n",
      "\n",
      "\n",
      "Source Image:\n",
      "(47, 235, 3)\n"
     ]
    },
    {
     "data": {
      "image/png": "[encoded data removed]",
      "text/plain": [
       "<IPython.core.display.Image object>"
      ]
     },
     "metadata": {},
     "output_type": "display_data"
    },
    {
     "name": "stdout",
     "output_type": "stream",
     "text": [
      "Recognized latex:\n",
      "F _ { \\small p C } ( \\epsilon ) = F _ { \\mathrm { f l c } ( x _ { q } ) } \\! \\hspace { . e x p } \\left( - \\frac { ( z - z _ { \\mathrm { e q 0 } } ) } { k _ { \\mathrm { H C } } } \\right)\n",
      "\n",
      "Compilation from recognized latex:\n"
     ]
    },
    {
     "data": {
      "text/latex": [
       "$$F _ { \\small p C } ( \\epsilon ) = F _ { \\mathrm { f l c } ( x _ { q } ) } \\! \\hspace { . e x p } \\left( - \\frac { ( z - z _ { \\mathrm { e q 0 } } ) } { k _ { \\mathrm { H C } } } \\right)$$"
      ],
      "text/plain": [
       "<IPython.core.display.Math object>"
      ]
     },
     "metadata": {},
     "output_type": "display_data"
    },
    {
     "name": "stdout",
     "output_type": "stream",
     "text": [
      "\n",
      "\n",
      "\n",
      "Source Image:\n",
      "(58, 141, 3)\n"
     ]
    },
    {
     "data": {
      "image/png": "[encoded data removed]",
      "text/plain": [
       "<IPython.core.display.Image object>"
      ]
     },
     "metadata": {},
     "output_type": "display_data"
    },
    {
     "name": "stdout",
     "output_type": "stream",
     "text": [
      "Recognized latex:\n",
      "( { } ^ { ( 4 ) }\n",
      "\n",
      "Compilation from recognized latex:\n"
     ]
    },
    {
     "data": {
      "text/latex": [
       "$$( { } ^ { ( 4 ) }$$"
      ],
      "text/plain": [
       "<IPython.core.display.Math object>"
      ]
     },
     "metadata": {},
     "output_type": "display_data"
    },
    {
     "name": "stdout",
     "output_type": "stream",
     "text": [
      "\n",
      "\n",
      "\n"
     ]
    }
   ],
   "source": [
    "for i in range(0,50, 1):\n",
    "    predict('data/equations/%d.png'%i, ratio=1.7)\n",
    "    print('\\n\\n')"
   ]
  },
  {
   "cell_type": "markdown",
   "metadata": {},
   "source": [
    "$$\\frac { \\partial R _ { i _ { r } } } { \\partial t } = \\sum _ { j = 1 } ^ { J } \\Big ( - V _ { j , j , r r }  _ { j , C } ^ { + } + r _ { j , i , j , i . . . . B j } $$"
   ]
  },
  {
   "cell_type": "code",
   "execution_count": 25,
   "metadata": {},
   "outputs": [
    {
     "name": "stdout",
     "output_type": "stream",
     "text": [
      "Source Image:\n",
      "(50, 320, 3)\n"
     ]
    },
    {
     "data": {
      "image/png": "[encoded data removed]",
      "text/plain": [
       "<IPython.core.display.Image object>"
      ]
     },
     "metadata": {},
     "output_type": "display_data"
    },
    {
     "name": "stdout",
     "output_type": "stream",
     "text": [
      "Recognized latex:\n",
      "P ( | | \\Delta _ { \\mu } \\| \\geq t ^ { \\prime } ) \\leq 4 ( r - 1 ) d _ { O } \\mathrm { e x p } \\left( - \\frac { n t ^ { 2 } } { 3 2 V ^ { 2 } d _ { O } ^ { 2 } } \\right) ,\n",
      "\n",
      "Compilation from recognized latex:\n"
     ]
    },
    {
     "data": {
      "text/latex": [
       "$$P ( | | \\Delta _ { \\mu } \\| \\geq t ^ { \\prime } ) \\leq 4 ( r - 1 ) d _ { O } \\mathrm { e x p } \\left( - \\frac { n t ^ { 2 } } { 3 2 V ^ { 2 } d _ { O } ^ { 2 } } \\right) ,$$"
      ],
      "text/plain": [
       "<IPython.core.display.Math object>"
      ]
     },
     "metadata": {},
     "output_type": "display_data"
    }
   ],
   "source": [
    "predict('data/equations/paper.png', ratio=2)"
   ]
  },
  {
   "cell_type": "code",
   "execution_count": 24,
   "metadata": {},
   "outputs": [
    {
     "name": "stdout",
     "output_type": "stream",
     "text": [
      "Source Image:\n",
      "(40, 160, 3)\n"
     ]
    },
    {
     "data": {
      "image/png": "[encoded data removed]",
      "text/plain": [
       "<IPython.core.display.Image object>"
      ]
     },
     "metadata": {},
     "output_type": "display_data"
    },
    {
     "name": "stdout",
     "output_type": "stream",
     "text": [
      "Recognized latex:\n",
      "\\mathrm { G V } \\Gamma _ { \\mathrm { g I } } = \\psi _ { s ^ { - } } \\psi _ { \\mathrm { m l n } }\n",
      "\n",
      "Compilation from recognized latex:\n"
     ]
    },
    {
     "data": {
      "text/latex": [
       "$$\\mathrm { G V } \\Gamma _ { \\mathrm { g I } } = \\psi _ { s ^ { - } } \\psi _ { \\mathrm { m l n } }$$"
      ],
      "text/plain": [
       "<IPython.core.display.Math object>"
      ]
     },
     "metadata": {},
     "output_type": "display_data"
    }
   ],
   "source": [
    "predict('data/pdf/%s.pdf'%'test', ratio=2)"
   ]
  },
  {
   "cell_type": "code",
   "execution_count": null,
   "metadata": {},
   "outputs": [],
   "source": []
  }
 ],
 "metadata": {
  "kernelspec": {
   "display_name": "Python 2",
   "language": "python",
   "name": "python2"
  },
  "language_info": {
   "codemirror_mode": {
    "name": "ipython",
    "version": 2
   },
   "file_extension": ".py",
   "mimetype": "text/x-python",
   "name": "python",
   "nbconvert_exporter": "python",
   "pygments_lexer": "ipython2",
   "version": "2.7.15rc1"
  }
 },
 "nbformat": 4,
 "nbformat_minor": 2
}
