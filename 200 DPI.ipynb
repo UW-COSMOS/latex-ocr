{
 "cells": [
  {
   "cell_type": "code",
   "execution_count": 2,
   "metadata": {},
   "outputs": [],
   "source": [
    "from demo import img2latex, pdf2latex, postprocess\n",
    "from model.img2seq import Img2SeqModel\n",
    "from model.utils.general import Config, run\n",
    "from model.utils.text import Vocab\n",
    "from IPython.display import Image, display, Math, Latex\n",
    "from wand.image import Image as WImage\n",
    "import matplotlib.pyplot as plt\n",
    "from imgaug import augmenters as iaa\n",
    "%load_ext autoreload\n",
    "%autoreload 2"
   ]
  },
  {
   "cell_type": "code",
   "execution_count": 2,
   "metadata": {},
   "outputs": [
    {
     "data": {
      "application/javascript": [
       "IPython.OutputArea.prototype._should_scroll = function(lines) {\n",
       "    return false;\n",
       "}"
      ],
      "text/plain": [
       "<IPython.core.display.Javascript object>"
      ]
     },
     "metadata": {},
     "output_type": "display_data"
    }
   ],
   "source": [
    "%%javascript\n",
    "IPython.OutputArea.prototype._should_scroll = function(lines) {\n",
    "    return false;\n",
    "}"
   ]
  },
  {
   "cell_type": "code",
   "execution_count": 3,
   "metadata": {},
   "outputs": [
    {
     "name": "stderr",
     "output_type": "stream",
     "text": [
      "Building model...\n",
      "- done.\n",
      "Reloading the latest trained model...\n"
     ]
    },
    {
     "name": "stdout",
     "output_type": "stream",
     "text": [
      "INFO:tensorflow:Restoring parameters from /home/paulluh/im2latex_weights/1/model.weights/\n"
     ]
    },
    {
     "name": "stderr",
     "output_type": "stream",
     "text": [
      "Restoring parameters from /home/paulluh/im2latex_weights/1/model.weights/\n"
     ]
    }
   ],
   "source": [
    "dir_output = \"/home/paulluh/im2latex_weights/1/\"\n",
    "config_vocab = Config(dir_output + \"vocab.json\")\n",
    "config_model = Config(dir_output + \"model.json\")\n",
    "vocab = Vocab(config_vocab)\n",
    "\n",
    "model = Img2SeqModel(config_model, dir_output, vocab)\n",
    "model.build_pred()\n",
    "model.restore_session(dir_output + \"model.weights/\")"
   ]
  },
  {
   "cell_type": "code",
   "execution_count": 59,
   "metadata": {},
   "outputs": [
    {
     "name": "stdout",
     "output_type": "stream",
     "text": [
      "Pixel Dimensions: (50, 120, 3)\n",
      "K _ { \\mathrm { o c } } = \\frac { K _ { d } } { \\d \\Psi _ { 6 } C } \\times 1 0 0\n"
     ]
    },
    {
     "data": {
      "image/png": "[encoded data removed]",
      "text/plain": [
       "<IPython.core.display.Image object>"
      ]
     },
     "metadata": {},
     "output_type": "display_data"
    },
    {
     "data": {
      "text/latex": [
       "$$K _ { \\mathrm { o c } } = \\frac { K _ { d } } { \\d \\Psi _ { 6 } C } \\times 1 0 0$$"
      ],
      "text/plain": [
       "<IPython.core.display.Math object>"
      ]
     },
     "metadata": {},
     "output_type": "display_data"
    }
   ],
   "source": [
    "latex, img = pdf2latex(model, 'data/pdf/test.pdf')\n",
    "print(latex)\n",
    "display(Image(img))\n",
    "display(Math(latex))"
   ]
  },
  {
   "cell_type": "code",
   "execution_count": 7,
   "metadata": {},
   "outputs": [
    {
     "name": "stdout",
     "output_type": "stream",
     "text": [
      "Pixel Dimensions: (50, 120, 3)\n"
     ]
    },
    {
     "data": {
      "image/png": "[encoded data removed]",
      "text/plain": [
       "<IPython.core.display.Image object>"
      ]
     },
     "metadata": {},
     "output_type": "display_data"
    },
    {
     "data": {
      "text/latex": [
       "$$\\begin{array} {c}K_{{ic}=\\frac  {K_{ij}}{\\epsilon   _}}\\cdot  {l};_i\\\\  \\epsilon   _{{c=\\frac  {K_{ij}}{\\epsilon   _{{f}\\cap }}\\cdot  {l};})}\\\\  \\end{array} $$"
      ],
      "text/plain": [
       "<IPython.core.display.Math object>"
      ]
     },
     "metadata": {},
     "output_type": "display_data"
    }
   ],
   "source": [
    "seq = iaa.Sequential([\n",
    "    iaa.GammaContrast(2)\n",
    "])\n",
    "latex, _, img_path = img2latex(model, 'data/equations/0.png', downsample_image_ratio=2, cropping=True, padding=True, gray_scale=True)\n",
    "latex = postprocess(latex)\n",
    "display(Image(img_path))\n",
    "display(Math(latex))"
   ]
  },
  {
   "cell_type": "code",
   "execution_count": 151,
   "metadata": {},
   "outputs": [
    {
     "name": "stdout",
     "output_type": "stream",
     "text": [
      "Pixel Dimensions: (50, 120, 3)\n"
     ]
    },
    {
     "data": {
      "image/png": "[encoded data removed]",
      "text/plain": [
       "<IPython.core.display.Image object>"
      ]
     },
     "metadata": {},
     "output_type": "display_data"
    },
    {
     "data": {
      "text/latex": [
       "$${\\cal Q}_{ad}=a+bC_{\\epsilon q}$$"
      ],
      "text/plain": [
       "<IPython.core.display.Math object>"
      ]
     },
     "metadata": {},
     "output_type": "display_data"
    }
   ],
   "source": [
    "from imgaug import augmenters as iaa\n",
    "\n",
    "seq = iaa.Sequential([\n",
    "    iaa.GammaContrast(2)\n",
    "])\n",
    "\n",
    "latex, _, img_path = img2latex(model, 'data/sandbox/5-4.png', downsample_image_ratio=2, cropping=True, padding=True, gray_scale=True,\n",
    "                              img_augment=seq)\n",
    "display(Image(img_path))\n",
    "latex = postprocess(latex)\n",
    "display(Math(latex))"
   ]
  },
  {
   "cell_type": "code",
   "execution_count": 146,
   "metadata": {},
   "outputs": [
    {
     "name": "stdout",
     "output_type": "stream",
     "text": [
      "Pixel Dimensions: (50, 120, 3)\n",
      "{ \\cal Q } _ { a d s } = a + b C _ { e q }\n"
     ]
    },
    {
     "data": {
      "image/png": "[encoded data removed]",
      "text/plain": [
       "<IPython.core.display.Image object>"
      ]
     },
     "metadata": {},
     "output_type": "display_data"
    },
    {
     "data": {
      "text/latex": [
       "$${ \\cal Q } _ { a d s } = a + b C _ { e q }$$"
      ],
      "text/plain": [
       "<IPython.core.display.Math object>"
      ]
     },
     "metadata": {},
     "output_type": "display_data"
    }
   ],
   "source": [
    "latex, img = pdf2latex(model, 'data/pdf/test2.pdf')\n",
    "print(latex)\n",
    "display(Image(img))\n",
    "display(Math(latex))"
   ]
  },
  {
   "cell_type": "code",
   "execution_count": null,
   "metadata": {},
   "outputs": [],
   "source": []
  }
 ],
 "metadata": {
  "kernelspec": {
   "display_name": "Python 2",
   "language": "python",
   "name": "python2"
  },
  "language_info": {
   "codemirror_mode": {
    "name": "ipython",
    "version": 2
   },
   "file_extension": ".py",
   "mimetype": "text/x-python",
   "name": "python",
   "nbconvert_exporter": "python",
   "pygments_lexer": "ipython2",
   "version": "2.7.15rc1"
  }
 },
 "nbformat": 4,
 "nbformat_minor": 2
}
